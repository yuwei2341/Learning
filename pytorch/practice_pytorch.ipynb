{
 "cells": [
  {
   "cell_type": "code",
   "execution_count": 31,
   "metadata": {},
   "outputs": [],
   "source": [
    "import numpy as np\n",
    "from sklearn import metrics\n",
    "from sklearn.linear_model import LogisticRegression\n",
    "from sklearn.ensemble import RandomForestClassifier\n",
    "import torch\n",
    "from torch import nn\n",
    "from torch.utils.data import TensorDataset, DataLoader"
   ]
  },
  {
   "cell_type": "code",
   "execution_count": 51,
   "metadata": {},
   "outputs": [],
   "source": [
    "X = np.random.rand(3, 4)\n",
    "X_test = X + 0.01\n",
    "Y = np.zeros(3)\n",
    "Y[1] = 1\n",
    "Y_test = Y"
   ]
  },
  {
   "cell_type": "code",
   "execution_count": 53,
   "metadata": {},
   "outputs": [
    {
     "name": "stdout",
     "output_type": "stream",
     "text": [
      "ROC: 1.0; accuracy: 1.0\n"
     ]
    }
   ],
   "source": [
    "cls = RandomForestClassifier(n_estimators=50, random_state=42)\n",
    "cls.fit(X, Y)\n",
    "score = cls.predict_proba(X_test)[:, 1]\n",
    "predicted = (score > 0.5).astype(float)\n",
    "roc_score = metrics.roc_auc_score(Y_test, score)\n",
    "accuracy = (predicted == Y_test).sum() / len(Y_test)\n",
    "print(f\"ROC: {roc_score:.2}; accuracy: {accuracy:.3}\")"
   ]
  },
  {
   "cell_type": "code",
   "execution_count": 56,
   "metadata": {},
   "outputs": [],
   "source": [
    "device = torch.device('cuda') if torch.cuda.is_available() else torch.device('cpu')\n",
    "X_ts = torch.tensor(X, device=device, dtype=torch.float32)\n",
    "Y_ts = torch.tensor(Y, device=device, dtype=torch.float32).unsqueeze(-1)\n",
    "\n",
    "X_test_ts = torch.tensor(X_test, device=device, dtype=torch.float32)\n",
    "Y_test_ts = torch.tensor(Y_test, device=device, dtype=torch.float32).unsqueeze(-1)\n",
    "\n",
    "dataset = TensorDataset(X_ts, Y_ts)\n",
    "dataloader = DataLoader(dataset, batch_size=2, shuffle=True)"
   ]
  },
  {
   "cell_type": "code",
   "execution_count": 57,
   "metadata": {},
   "outputs": [],
   "source": [
    "class MLP(nn.Module):\n",
    "    def __init__(self, input_size, h_size=32, drop_ratio=0.5):\n",
    "        super(MLP, self).__init__()\n",
    "        self.fc1 = nn.Linear(input_size, h_size)\n",
    "        self.relu = nn.ReLU()\n",
    "        self.fc2 = nn.Linear(h_size, 1)\n",
    "        self.dropout = nn.Dropout(drop_ratio)\n",
    "        self.sigm = nn.Sigmoid()\n",
    "\n",
    "    def forward(self, x):\n",
    "        x = self.relu(self.fc1(x))\n",
    "        x = self.fc2(x)\n",
    "        x = self.dropout(x)\n",
    "        x = self.sigm(x)\n",
    "        return x "
   ]
  },
  {
   "cell_type": "code",
   "execution_count": 60,
   "metadata": {},
   "outputs": [
    {
     "name": "stdout",
     "output_type": "stream",
     "text": [
      "Epoch 0 : train loss: 0.835; accuracy 0.3333; ROC AUC: 0.5\n",
      "Epoch 1 : train loss: 0.723; accuracy 0.3333; ROC AUC: 0.5\n",
      "Epoch 2 : train loss: 0.834; accuracy 0.3333; ROC AUC: 0.5\n"
     ]
    }
   ],
   "source": [
    "input_size = 4\n",
    "lr = 0.001\n",
    "epochs = 3\n",
    "\n",
    "model = MLP(input_size=input_size)\n",
    "model.to(device)\n",
    "criterion = nn.BCEWithLogitsLoss()\n",
    "optimizer = torch.optim.Adam(model.parameters(), lr=lr)\n",
    "\n",
    "for epoch in range(epochs):\n",
    "    train_loss = val_loss = total_correct = 0\n",
    "    eval_output_total = eval_y_total = np.empty((0, 1))\n",
    "\n",
    "    model.train()\n",
    "    for batch_data, batch_labels in dataloader:\n",
    "        optimizer.zero_grad()\n",
    "        outputs = model(batch_data)\n",
    "        curr_train_loss = criterion(outputs, batch_labels)\n",
    "\n",
    "        curr_train_loss.backward()\n",
    "        train_loss += curr_train_loss.item()\n",
    "        optimizer.step()\n",
    "\n",
    "    train_loss /= len(dataloader)\n",
    "\n",
    "    model.eval()\n",
    "    with torch.no_grad():\n",
    "        val_outputs = model(X_test_ts)\n",
    "        curr_val_loss = criterion(val_outputs, Y_test_ts)\n",
    "        val_loss = curr_val_loss.item()\n",
    "\n",
    "        total_correct = ((val_outputs > 0.5).float() == Y_test_ts).float().sum().item()\n",
    "        roc_auc = metrics.roc_auc_score(Y_test_ts.cpu().numpy(), val_outputs.cpu().numpy())\n",
    "\n",
    "    accuracy = (total_correct / len(Y_test_ts))\n",
    "    print(f\"Epoch {epoch:<2}: train loss: {train_loss:.3}; accuracy {accuracy:.4}; ROC AUC: {roc_auc:.3}\")"
   ]
  }
 ],
 "metadata": {
  "kernelspec": {
   "display_name": "penv",
   "language": "python",
   "name": "python3"
  },
  "language_info": {
   "codemirror_mode": {
    "name": "ipython",
    "version": 3
   },
   "file_extension": ".py",
   "mimetype": "text/x-python",
   "name": "python",
   "nbconvert_exporter": "python",
   "pygments_lexer": "ipython3",
   "version": "3.11.4"
  }
 },
 "nbformat": 4,
 "nbformat_minor": 2
}
