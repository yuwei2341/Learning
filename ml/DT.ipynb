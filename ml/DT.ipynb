{
 "cells": [
  {
   "cell_type": "markdown",
   "metadata": {},
   "source": [
    "Follow: https://machinelearningmastery.com/implement-decision-tree-algorithm-scratch-python/"
   ]
  },
  {
   "cell_type": "code",
   "execution_count": 4,
   "metadata": {
    "collapsed": true,
    "deletable": true,
    "editable": true
   },
   "outputs": [],
   "source": [
    "data0 = [[3, 5, 6, 1], \n",
    "        [8, 8, 2, 0],\n",
    "        [2, 3, 5, 1],\n",
    "        [1, 9, 8, 1],\n",
    "       ]"
   ]
  },
  {
   "cell_type": "code",
   "execution_count": 5,
   "metadata": {
    "collapsed": true,
    "deletable": true,
    "editable": true
   },
   "outputs": [],
   "source": [
    "import operator\n",
    "\n",
    "def gini_index(regions, classes):\n",
    "    '''Get gini index in a group of samples\n",
    "    Args:\n",
    "        regions: list of regions containing samples in each region\n",
    "        classes: all distinct classes in all regions\n",
    "    Return:\n",
    "        gini index for current regions\n",
    "    Note:\n",
    "        Gini index for a region: G_r = sum(p_class(1-p_class))\n",
    "                                    = 1 - sum(p_class**2) for each class\n",
    "        Gini_index = sum(n_region/n_total * G_r) for each region\n",
    "    '''\n",
    "\n",
    "    n_samples = sum(len(region) for region in regions)\n",
    "    gini = 0\n",
    "    for region in regions:\n",
    "        if not region:\n",
    "            continue\n",
    "        score = 0\n",
    "        for c in classes:\n",
    "            n_class = len([row for row in region if row[-1] == c])\n",
    "            score += ((n_class * 1.0) / len(region)) ** 2\n",
    "        gini += (1 - score) * n_class / n_samples\n",
    "\n",
    "    return gini\n",
    "\n",
    "\n",
    "def get_split(samples, classes):\n",
    "    '''Make a split in a group of samples\n",
    "    Args:\n",
    "        samples: A group of samples\n",
    "        classes: all classes in the samples\n",
    "    Return: \n",
    "        The best split as a dict with keys:\n",
    "            index: the index for the feature to split\n",
    "            value: the value to split\n",
    "            regions: the split regions\n",
    "    '''\n",
    "    \n",
    "    gini_index_parent = gini_index([samples], classes)\n",
    "    split = {'index': -1, 'value': None, 'gini': gini_index_parent}\n",
    "    for index in range(len(samples[0]) - 1):\n",
    "        values = sorted(list(set(row[index] for row in samples)))\n",
    "        for value in values:\n",
    "            region1 = [row for row in samples if row[index] < value]\n",
    "            region2 = [row for row in samples if row[index] >= value]\n",
    "            gini = gini_index([region1, region2], classes)\n",
    "            if gini < split['gini']:\n",
    "                split['index'] = index\n",
    "                split['value'] = value   \n",
    "                split['gini'] = gini\n",
    "                print region1, region2\n",
    "    return split\n",
    "\n",
    "\n",
    "def get_leaf(samples, classes):\n",
    "    '''Generate a leaf with a class\n",
    "    Args:\n",
    "        samples: a group of samples\n",
    "        classes: all classes in the samples\n",
    "    Return:\n",
    "        the majority class in the samples\n",
    "    '''\n",
    "    \n",
    "    class_counts = {c: 0 for c in classes}\n",
    "    for row in samples:        \n",
    "        class_counts[row[-1]] += 1    \n",
    "    max_c_cnt = max(class_counts.iteritems(), key=operator.itemgetter(1))\n",
    "    return max_c_cnt[0], max_c_cnt[1] / 1.0 / len(samples)\n",
    "\n",
    "\n",
    "def split(node, max_depth, min_size, depth):\n",
    "    '''Do recursive splitting for a group of samples\n",
    "    Args:\n",
    "        node: a tree node that contains\n",
    "            payload: index and value of feature to split it\n",
    "            children: two groups of samples splitted by the feature\n",
    "    Return:\n",
    "        Do operation on the input node directly\n",
    "    Note:\n",
    "        stop cases (get leaf): \n",
    "            1. if either child contain no samples, or\n",
    "            2. max_depth reached\n",
    "        iterates each child:\n",
    "            1. if min_size reached, get leaf\n",
    "            2. else, get_split for the child, and do split on this child\n",
    "    '''\n",
    "    \n",
    "    \n",
    "def predict():\n",
    "    '''Make prediction given a new group of samples\n",
    "    Recursively go down a tree and check\n",
    "    1. if the child is a branch, go down\n",
    "    2. if it's a leaf, return    \n",
    "    '''"
   ]
  },
  {
   "cell_type": "code",
   "execution_count": 6,
   "metadata": {
    "collapsed": false,
    "deletable": true,
    "editable": true
   },
   "outputs": [
    {
     "data": {
      "text/plain": [
       "(1, 0.75)"
      ]
     },
     "execution_count": 6,
     "metadata": {},
     "output_type": "execute_result"
    }
   ],
   "source": [
    "get_leaf(data0, [0, 1])\n"
   ]
  },
  {
   "cell_type": "code",
   "execution_count": 7,
   "metadata": {
    "collapsed": false,
    "deletable": true,
    "editable": true
   },
   "outputs": [
    {
     "name": "stdout",
     "output_type": "stream",
     "text": [
      "[[1, 9, 8, 1]] [[3, 5, 6, 1], [8, 8, 2, 0], [2, 3, 5, 1]]\n",
      "[[2, 3, 5, 1], [1, 9, 8, 1]] [[3, 5, 6, 1], [8, 8, 2, 0]]\n",
      "[[3, 5, 6, 1], [2, 3, 5, 1], [1, 9, 8, 1]] [[8, 8, 2, 0]]\n"
     ]
    },
    {
     "data": {
      "text/plain": [
       "{'gini': 0.0, 'index': 0, 'value': 8}"
      ]
     },
     "execution_count": 7,
     "metadata": {},
     "output_type": "execute_result"
    }
   ],
   "source": [
    "get_split(data0, [0, 1])"
   ]
  },
  {
   "cell_type": "code",
   "execution_count": 8,
   "metadata": {
    "collapsed": false,
    "deletable": true,
    "editable": true
   },
   "outputs": [
    {
     "name": "stdout",
     "output_type": "stream",
     "text": [
      "0.125\n",
      "0.125\n",
      "0.28125\n",
      "0.28125\n"
     ]
    }
   ],
   "source": [
    "print gini_index([data0[1:3], [data0[0], data0[3]]], list(set([row[-1] for row in data0])))\n",
    "print gini_index([data0[:2], data0[2:]], list(set([row[-1] for row in data0])))\n",
    "print gini_index([data0], list(set([row[-1] for row in data0])))\n",
    "print gini_index([data0, []], list(set([row[-1] for row in data0])))"
   ]
  }
 ],
 "metadata": {
  "kernelspec": {
   "display_name": "Python 2",
   "language": "python",
   "name": "python2"
  },
  "language_info": {
   "codemirror_mode": {
    "name": "ipython",
    "version": 2
   },
   "file_extension": ".py",
   "mimetype": "text/x-python",
   "name": "python",
   "nbconvert_exporter": "python",
   "pygments_lexer": "ipython2",
   "version": "2.7.13"
  },
  "toc": {
   "base_numbering": 1,
   "nav_menu": {},
   "number_sections": true,
   "sideBar": true,
   "skip_h1_title": false,
   "title_cell": "Table of Contents",
   "title_sidebar": "Contents",
   "toc_cell": false,
   "toc_position": {},
   "toc_section_display": true,
   "toc_window_display": false
  }
 },
 "nbformat": 4,
 "nbformat_minor": 2
}
