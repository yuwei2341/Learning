{
 "cells": [
  {
   "cell_type": "markdown",
   "metadata": {},
   "source": [
    "# BFS\n",
    "* Use a queue to order vertexes to analyze next\n",
    "* O(V+E) - http://interactivepython.org/runestone/static/pythonds/Graphs/BreadthFirstSearchAnalysis.html"
   ]
  },
  {
   "cell_type": "code",
   "execution_count": 1,
   "metadata": {
    "collapsed": true
   },
   "outputs": [],
   "source": [
    "from pythonds.graphs import Graph, Vertex\n",
    "from pythonds.basic import Queue"
   ]
  },
  {
   "cell_type": "code",
   "execution_count": 2,
   "metadata": {
    "collapsed": true
   },
   "outputs": [],
   "source": [
    "from pythonds.graphs import Graph, Vertex\n",
    "from pythonds.basic import Queue\n",
    "def bfs(start):\n",
    "    # Can use a dict to store all distances\n",
    "    start.setDistance(0)\n",
    "    # Can use a dict as well\n",
    "    start.setPred(None)\n",
    "    vertQueue = Queue()\n",
    "    # start.setColor('discovered')  # start is discovered, and should be set as gray\n",
    "    vertQueue.enqueue(start)\n",
    "    # Explore each vertex\n",
    "    while vertQueue.size() > 0:\n",
    "        # Process next vertex\n",
    "        currentVert = vertQueue.dequeue()\n",
    "\n",
    "        # For a search, an exit conditions should be added here\n",
    "        # if currentVert is an exit:\n",
    "            # break or return something\n",
    "        \n",
    "        for nbr in currentVert.getConnections():\n",
    "            # Loop over undiscovered vertex\n",
    "            if nbr.getColor() == 'undiscovered':  # white denotes undiscovered vertex\n",
    "                # Market it discovered, set paras, and push into the queue\n",
    "                nbr.setColor('discovered')  # gray denotes discovered vertex whose neighbors haven't all been discovered\n",
    "                nbr.setDistance(currentVert.getDistance + 1)\n",
    "                nbr.setPred(currentVert)\n",
    "                vertQueue.enqueue(nbr)\n",
    "        # This doesn't seem necessary - as long as a nbr is discovered, it'll get enqueued, and later get deququed and explored \n",
    "        currentVert.setColor('explored')  # black denotes a vertex whose neighbors have all been discovered"
   ]
  },
  {
   "cell_type": "markdown",
   "metadata": {},
   "source": [
    "# DFS\n",
    "* dfsvisit calls itself recursively to continue the search at a deeper level, whereas bfs adds the node to a queue for later exploration\n",
    "* O(V+E): loop in dfs is O(V); dfsvisit is only called when a vertex is white, so it's not O(VE), it' O(E). In total it's O(V+E)"
   ]
  },
  {
   "cell_type": "code",
   "execution_count": null,
   "metadata": {
    "collapsed": true
   },
   "outputs": [],
   "source": [
    "class DFSGraph(Graph):\n",
    "    def __init__(self):\n",
    "        super().__init__()\n",
    "        self.time = 0\n",
    "    \n",
    "    # DFS with recursion\n",
    "    def dfs(self):\n",
    "        for aVertex in self:\n",
    "            aVertex.setColor('white')\n",
    "            aVertex.setPred(-1)\n",
    "        for aVertex in self:\n",
    "            if aVertex.getColor() == 'white':\n",
    "                self.dfsvisit(aVertex)\n",
    "    \n",
    "    def dfsvisit(self, startVertex):\n",
    "        startVertex.setColor('gray')\n",
    "        self.time += 1\n",
    "        startVertex.setDiscovery(self.time)\n",
    "        for vert in startVertex.getConnections():\n",
    "            if vert.getColor() == 'white':\n",
    "                vert.setPred(startVertex)\n",
    "                self.dfsvisit(vert)\n",
    "        startVertex.setColor('black')\n",
    "        self.time += 1\n",
    "        startVertex.setFinish(self.time)\n",
    "        \n",
    "    # DFS for all vertices reachable from startVertex\n",
    "    # Algorthm uses  stack / iteration\n",
    "    def dfs_stack(self, startVertex):\n",
    "        stack = []\n",
    "        stack.append(startVertex)\n",
    "        while stack:\n",
    "            curr = stack.pop()\n",
    "            curr.setColor('discovered')\n",
    "            self.time += 1\n",
    "            curr.setDiscovery(self.time)\n",
    "            for vert in curr.getConnections():\n",
    "                if vert.getColor() == 'undiscovered':\n",
    "                    vert.setPred(curr)\n",
    "                    stack.append(vert)\n",
    "            # A vertex being 'explored' means all its descendents have been re-visited from the stack.\n",
    "            # To track this we need to put curr back to the stack before checking its neighbors, and\n",
    "            # at the next time popping it, change the state to 'explored'\n",
    "            # curr = stack.pop()\n",
    "            # if curr.getColor() == 'undiscovered':\n",
    "            #     curr.setColor('discovered')\n",
    "            #     self.time += 1\n",
    "            #     curr.setDiscovery(self.time)\n",
    "            #     for vert in curr.getConnections():\n",
    "            #         if vert.getColor() == 'undiscovered':\n",
    "            #             vert.setPred(curr)\n",
    "            #             stack.append(vert)\n",
    "            #     stack.append(curr)\n",
    "            # else:  # curr.getColor() == 'discovered'\n",
    "            #     curr.setColor('explored')\n",
    "            #     self.time += 1\n",
    "            #     curr.setFinish(self.time)\n",
    "        "
   ]
  },
  {
   "cell_type": "code",
   "execution_count": null,
   "metadata": {},
   "outputs": [],
   "source": [
    "class DFSGraph(Graph):\n",
    "    def __init__(self):\n",
    "        super().__init__()\n",
    "        self.time = 0\n",
    "    \n",
    "    # DFS with recursion\n",
    "    def dfs(self):\n",
    "        for aVertex in self:\n",
    "            aVertex.setColor('white')\n",
    "            aVertex.setPred(-1)\n",
    "        for aVertex in self:\n",
    "            if aVertex.getColor() == 'white':\n",
    "                self.dfsvisit(aVertex)\n",
    "    \n",
    "    def dfsvisit(self, startVertex):\n",
    "        startVertex.setColor('gray')\n",
    "        self.time += 1\n",
    "        startVertex.setDiscovery(self.time)\n",
    "        for vert in startVertex.getConnections():\n",
    "            if vert.getColor() == 'white':\n",
    "                vert.setPred(startVertex)\n",
    "                self.dfsvisit(vert)\n",
    "        startVertex.setColor('black')\n",
    "        self.time += 1\n",
    "        startVertex.setFinish(self.time)\n",
    "        \n",
    "    # DFS for all vertices reachable from startVertex\n",
    "    # Algorthm uses  stack / iteration\n",
    "    def dfs_stack(self, startVertex):\n",
    "        stack = []\n",
    "        stack.append(startVertex)\n",
    "        while stack:\n",
    "            curr = stack.pop()\n",
    "            curr.setColor('gray')\n",
    "            self.time += 1\n",
    "            curr.setDiscovery(self.time)\n",
    "            for vert in curr.getConnections():\n",
    "                if vert.getColor() == 'undiscovered':\n",
    "                    vert.setPred(curr)\n",
    "                    stack.append(vert)\n",
    "            # \n",
    "            # curr.setColor('black')\n",
    "            # self.time += 1\n",
    "            # curr.setFinish(self.time)\n",
    "        "
   ]
  },
  {
   "cell_type": "code",
   "execution_count": null,
   "metadata": {},
   "outputs": [],
   "source": []
  },
  {
   "cell_type": "code",
   "execution_count": null,
   "metadata": {},
   "outputs": [],
   "source": []
  },
  {
   "cell_type": "code",
   "execution_count": 45,
   "metadata": {},
   "outputs": [
    {
     "data": {
      "text/plain": [
       "[[5, 5], [5, 2, 3], [2, 2, 2, 2, 2], [2, 2, 3, 3]]"
      ]
     },
     "execution_count": 45,
     "metadata": {},
     "output_type": "execute_result"
    }
   ],
   "source": [
    "from typing import List\n",
    "def combinationSum(candidates: List[int], target: int) -> List[List[int]]:\n",
    "    ans = []\n",
    "    n = len(candidates)\n",
    "    def dfs(cur, cur_sum, idx):                       # try out each possible cases\n",
    "        if cur_sum > target: return                   # this is the case, cur_sum will never equal to target\n",
    "        if cur_sum == target: ans.append(cur); return # if equal, add to `ans`\n",
    "        for i in range(idx, n): \n",
    "            dfs(cur + [candidates[i]], cur_sum + candidates[i], i) # DFS\n",
    "    dfs([], 0, 0)\n",
    "    return ans        \n",
    "\n",
    "combinationSum([5, 2, 3], 10)"
   ]
  }
 ],
 "metadata": {
  "kernelspec": {
   "display_name": "Python 3",
   "language": "python",
   "name": "python3"
  },
  "language_info": {
   "codemirror_mode": {
    "name": "ipython",
    "version": 3
   },
   "file_extension": ".py",
   "mimetype": "text/x-python",
   "name": "python",
   "nbconvert_exporter": "python",
   "pygments_lexer": "ipython3",
   "version": "3.11.4"
  },
  "toc": {
   "base_numbering": 1,
   "nav_menu": {},
   "number_sections": true,
   "sideBar": true,
   "skip_h1_title": false,
   "title_cell": "Table of Contents",
   "title_sidebar": "Contents",
   "toc_cell": false,
   "toc_position": {},
   "toc_section_display": true,
   "toc_window_display": false
  }
 },
 "nbformat": 4,
 "nbformat_minor": 2
}
