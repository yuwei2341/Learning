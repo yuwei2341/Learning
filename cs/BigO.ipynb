{
 "cells": [
  {
   "cell_type": "markdown",
   "metadata": {},
   "source": [
    "Write two Python functions to find the minimum number in a list. The first function should compare each number to every other number on the list. O(n2). The second function should be linear O(n)."
   ]
  },
  {
   "cell_type": "code",
   "execution_count": null,
   "metadata": {
    "collapsed": true
   },
   "outputs": [],
   "source": []
  },
  {
   "cell_type": "code",
   "execution_count": null,
   "metadata": {
    "collapsed": true
   },
   "outputs": [],
   "source": []
  },
  {
   "cell_type": "code",
   "execution_count": 1,
   "metadata": {
    "collapsed": false
   },
   "outputs": [
    {
     "data": {
      "text/plain": [
       "2"
      ]
     },
     "execution_count": 1,
     "metadata": {},
     "output_type": "execute_result"
    }
   ],
   "source": [
    "def findMin(numList):\n",
    "    for ii in numList:\n",
    "        iiMin = True\n",
    "        numList.remove(ii)\n",
    "        for jj in numList:\n",
    "            if ii >= jj:\n",
    "                iiMin = False\n",
    "        if iiMin:\n",
    "            return ii\n",
    "\n",
    "findMin(range(100, 1, -1))"
   ]
  },
  {
   "cell_type": "code",
   "execution_count": 2,
   "metadata": {
    "collapsed": false
   },
   "outputs": [
    {
     "data": {
      "text/plain": [
       "2"
      ]
     },
     "execution_count": 2,
     "metadata": {},
     "output_type": "execute_result"
    }
   ],
   "source": [
    "def findMinFaster(numList):\n",
    "    minNum = numList[0]\n",
    "    for ii in numList:\n",
    "        if ii < minNum:\n",
    "            minNum = ii\n",
    "            \n",
    "    return minNum\n",
    "\n",
    "findMin(range(10000, 1, -1))"
   ]
  },
  {
   "cell_type": "markdown",
   "metadata": {},
   "source": [
    "Anagram - sol 1"
   ]
  },
  {
   "cell_type": "code",
   "execution_count": 3,
   "metadata": {
    "collapsed": false
   },
   "outputs": [],
   "source": [
    "def anagramSolution1(s1, s2):\n",
    "    s2List = list(s2)\n",
    "    for ii in s1:\n",
    "        if ii in s2List:\n",
    "            s2List[s2List.index(ii)] = None\n",
    "        else:\n",
    "            return False\n",
    "    if s2List == [None] * len(s2List):\n",
    "        return True\n",
    "    else: \n",
    "        return False"
   ]
  },
  {
   "cell_type": "code",
   "execution_count": 6,
   "metadata": {
    "collapsed": false
   },
   "outputs": [
    {
     "data": {
      "text/plain": [
       "True"
      ]
     },
     "execution_count": 6,
     "metadata": {},
     "output_type": "execute_result"
    }
   ],
   "source": [
    "anagramSolution1('abcc', 'cbca')"
   ]
  },
  {
   "cell_type": "markdown",
   "metadata": {},
   "source": [
    "## Anagram - sol 2"
   ]
  },
  {
   "cell_type": "code",
   "execution_count": 32,
   "metadata": {
    "collapsed": false
   },
   "outputs": [],
   "source": [
    "import pdb"
   ]
  },
  {
   "cell_type": "code",
   "execution_count": 35,
   "metadata": {
    "collapsed": false
   },
   "outputs": [
    {
     "name": "stdout",
     "output_type": "stream",
     "text": [
      "['a', 'b', 'c', 'd']\n"
     ]
    },
    {
     "data": {
      "text/plain": [
       "True"
      ]
     },
     "execution_count": 35,
     "metadata": {},
     "output_type": "execute_result"
    }
   ],
   "source": [
    "def anagramSolution2(s1, s2):\n",
    "    s1List = list(s1)\n",
    "    s2List = list(s2)\n",
    "    s1List.sort()\n",
    "    s2List.sort()\n",
    "    print s1List\n",
    "    ii = 0\n",
    "    while ii < len(s1List):\n",
    "        if s1List[ii] == s2List[ii]:\n",
    "            ii += 1\n",
    "        else:\n",
    "            return False\n",
    "    return True\n",
    "\n",
    "anagramSolution2('abcd', 'dcba')"
   ]
  },
  {
   "cell_type": "markdown",
   "metadata": {},
   "source": [
    "## Excercise for Python DS efficiency"
   ]
  },
  {
   "cell_type": "code",
   "execution_count": 43,
   "metadata": {
    "collapsed": false
   },
   "outputs": [
    {
     "name": "stdout",
     "output_type": "stream",
     "text": [
      "0.0530734095935\n",
      "0.0400240983798\n",
      "0.0401045546323\n",
      "0.0422191297251\n",
      "0.0416944317728\n",
      "0.0457018460668\n",
      "0.0412621237756\n",
      "0.0430541039426\n",
      "0.0406766024363\n",
      "0.0419716016376\n"
     ]
    }
   ],
   "source": [
    "# Devise an experiment to verify that the list index operator is O(1)\n",
    "import timeit\n",
    "import random\n",
    "\n",
    "for ii in range(10):\n",
    "    \n",
    "    x = range(2 ** ii)\n",
    "\n",
    "    dd = random.randrange(len(x))\n",
    "    t = timeit.Timer(\"a = x[%i]\" % dd,\n",
    "                     \"from __main__ import x\")\n",
    "    print t.timeit()\n",
    "    \n"
   ]
  },
  {
   "cell_type": "markdown",
   "metadata": {},
   "source": [
    "Given a list of numbers in random order, write an algorithm that works in O(nlog(n)) to find the kth smallest number in the list.\n"
   ]
  },
  {
   "cell_type": "code",
   "execution_count": 57,
   "metadata": {
    "collapsed": false
   },
   "outputs": [
    {
     "data": {
      "text/plain": [
       "29726"
      ]
     },
     "execution_count": 57,
     "metadata": {},
     "output_type": "execute_result"
    }
   ],
   "source": [
    "def KthSmall(randList, k):\n",
    "    randList.sort()\n",
    "    return randList[k - 1]\n",
    "\n",
    "import random\n",
    "randList = random.sample(range(1000000), 10000)\n",
    "KthSmall(randList, 300)"
   ]
  }
 ],
 "metadata": {
  "kernelspec": {
   "display_name": "Python 2",
   "language": "python",
   "name": "python2"
  },
  "language_info": {
   "codemirror_mode": {
    "name": "ipython",
    "version": 2
   },
   "file_extension": ".py",
   "mimetype": "text/x-python",
   "name": "python",
   "nbconvert_exporter": "python",
   "pygments_lexer": "ipython2",
   "version": "2.7.9"
  }
 },
 "nbformat": 4,
 "nbformat_minor": 0
}
