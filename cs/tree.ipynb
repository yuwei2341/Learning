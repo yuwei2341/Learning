{
 "cells": [
  {
   "cell_type": "markdown",
   "metadata": {
    "deletable": true,
    "editable": true
   },
   "source": [
    "# Tree as list"
   ]
  },
  {
   "cell_type": "code",
   "execution_count": 9,
   "metadata": {
    "collapsed": false,
    "deletable": true,
    "editable": true
   },
   "outputs": [
    {
     "name": "stdout",
     "output_type": "stream",
     "text": [
      "['a', ['b', ['d', [], []], ['e', [], []]], ['c', ['f', [], []], []]]\n",
      "('left subtree = ', ['b', ['d', [], []], ['e', [], []]])\n",
      "('root = ', 'a')\n",
      "('right subtree = ', ['c', ['f', [], []], []])\n"
     ]
    }
   ],
   "source": [
    "myTree = ['a', \n",
    "        ['b', ['d', [], []], ['e', [], []]], \n",
    "        ['c', ['f', [], []], []]]\n",
    "\n",
    "print(myTree)\n",
    "print('left subtree = ', myTree[1])\n",
    "print('root = ', myTree[0])\n",
    "print('right subtree = ', myTree[2])"
   ]
  },
  {
   "cell_type": "code",
   "execution_count": 10,
   "metadata": {
    "collapsed": false,
    "deletable": true,
    "editable": true
   },
   "outputs": [],
   "source": [
    "def BinaryTree(r):\n",
    "    return [r, [], []]\n",
    "\n",
    "def insertLeft(root, newBranch):\n",
    "    t = root.pop(1)\n",
    "    if t: # len(t) > 1\n",
    "        t = [newBranch, t, []]\n",
    "    else:\n",
    "        t = [newBranch, [], []]\n",
    "    root.insert(1, t)\n",
    "    return root\n",
    "\n",
    "def insertRight(root, newBranch):\n",
    "    t = root.pop(2)\n",
    "    if t: # len(t) > 1\n",
    "        t = [newBranch, [], t]\n",
    "    else:\n",
    "        t = [newBranch, [], []]\n",
    "    root.insert(2, t)\n",
    "    return root\n",
    "\n",
    "def getRootVal(root):\n",
    "    return root[0]\n",
    "\n",
    "def setRootVal(root, newVal):\n",
    "    root[0] = newVal\n",
    "    \n",
    "def getLeftChild(root):\n",
    "    return root[1]\n",
    "\n",
    "def getRightChild(root):\n",
    "    return root[2]"
   ]
  },
  {
   "cell_type": "code",
   "execution_count": 11,
   "metadata": {
    "collapsed": false,
    "deletable": true,
    "editable": true
   },
   "outputs": [
    {
     "data": {
      "text/plain": [
       "['c', ['e', [], []], ['f', [], []]]"
      ]
     },
     "execution_count": 11,
     "metadata": {},
     "output_type": "execute_result"
    }
   ],
   "source": [
    "x = BinaryTree('a')\n",
    "insertLeft(x, 'b')\n",
    "insertRight(getLeftChild(x), 'd')\n",
    "insertRight(x, 'c')\n",
    "insertLeft(getRightChild(x), 'e')\n",
    "insertRight(getRightChild(x), 'f')\n"
   ]
  },
  {
   "cell_type": "markdown",
   "metadata": {
    "deletable": true,
    "editable": true
   },
   "source": [
    "# Tree as class"
   ]
  },
  {
   "cell_type": "code",
   "execution_count": 53,
   "metadata": {
    "collapsed": true,
    "deletable": true,
    "editable": true
   },
   "outputs": [],
   "source": [
    "class BinaryTree(object):\n",
    "    '''This is actually a node of a Binary Tree. \n",
    "    Each child is an object of the class'''\n",
    "    def __init__(self, rootObj=None):\n",
    "        self.key = rootObj\n",
    "        self.leftChild = None\n",
    "        self.rightChild = None  \n",
    "    \n",
    "    def insertLeft(self, newNode):\n",
    "        t = BinaryTree(newNode)\n",
    "        if self.leftChild is None:\n",
    "            self.leftChild = t\n",
    "        else:\n",
    "            t.leftChild = self.leftChild\n",
    "            self.leftChild = t\n",
    "            \n",
    "    def insertRight(self, newNode):\n",
    "        t = BinaryTree(newNode)\n",
    "        if self.rightChild is None:\n",
    "            self.rightChild = t\n",
    "        else:\n",
    "            t.rightChild = self.rightChild\n",
    "            self.rightChild = t\n",
    "            \n",
    "    def getLeftChild(self):\n",
    "        return self.leftChild\n",
    "    \n",
    "    def getRightChild(self):\n",
    "        return self.rightChild\n",
    "    \n",
    "    def setRootVal(self, obj):\n",
    "        self.key = obj\n",
    "        \n",
    "    def getRootVal(self):\n",
    "        return self.key\n",
    "    \n",
    "    def preorder(self):\n",
    "        rslt = []\n",
    "        rslt.append(self.key)\n",
    "        if self.getLeftChild():\n",
    "            rslt += self.getLeftChild().preorder()\n",
    "        if self.getRightChild():\n",
    "            rslt += self.getRightChild().preorder()\n",
    "        return rslt\n",
    "\n",
    "    def inorder(self):       \n",
    "        rslt = [] \n",
    "        if self.getLeftChild():\n",
    "            rslt += self.getLeftChild().preorder()\n",
    "        rslt.append(self.key)\n",
    "        if self.getRightChild():\n",
    "            rslt += self.getRightChild().preorder()\n",
    "        return rslt\n",
    "        \n",
    "    def postorder(self):\n",
    "        rslt = []\n",
    "        if self.getLeftChild():\n",
    "            rslt += self.getLeftChild().postorder()\n",
    "        if self.getRightChild():\n",
    "            rslt += self.getRightChild().postorder()\n",
    "        rslt.append(self.key)\n",
    "        return rslt"
   ]
  },
  {
   "cell_type": "code",
   "execution_count": 54,
   "metadata": {
    "collapsed": false,
    "deletable": true,
    "editable": true
   },
   "outputs": [
    {
     "name": "stdout",
     "output_type": "stream",
     "text": [
      "hello\n"
     ]
    }
   ],
   "source": [
    "r = BinaryTree('a')\n",
    "r.insertLeft('b')\n",
    "r.insertRight('c')\n",
    "r.getRightChild().setRootVal('hello')\n",
    "print(r.getRightChild().getRootVal())"
   ]
  },
  {
   "cell_type": "code",
   "execution_count": 55,
   "metadata": {
    "collapsed": false,
    "deletable": true,
    "editable": true
   },
   "outputs": [
    {
     "name": "stdout",
     "output_type": "stream",
     "text": [
      "f\n"
     ]
    }
   ],
   "source": [
    "r = BinaryTree('a')\n",
    "\n",
    "r.insertLeft('b')\n",
    "r.getLeftChild().insertRight('d')\n",
    "\n",
    "r.insertRight('c')\n",
    "r.getRightChild().insertLeft('e')\n",
    "r.getRightChild().insertRight('f')\n",
    "print(r.getRightChild().getRightChild().getRootVal())"
   ]
  },
  {
   "cell_type": "markdown",
   "metadata": {
    "deletable": true,
    "editable": true
   },
   "source": [
    "# Parse Tree\n",
    "Parse string of math operation \n",
    "https://runestone.academy/ns/books/published/pythonds/Trees/ParseTree.html"
   ]
  },
  {
   "cell_type": "code",
   "execution_count": 56,
   "metadata": {},
   "outputs": [],
   "source": [
    "from pythonds.basic.stack import Stack\n",
    "\n",
    "def build_parse_tree(s: str) -> BinaryTree:\n",
    "    pt = BinaryTree()\n",
    "    pn_stack = Stack()\n",
    "    pn_stack.push(pt)  # need to push root in first to prevent out of index\n",
    "    cn = pt  # current node\n",
    "    for i in s:\n",
    "        if i == '(':\n",
    "            cn.insertLeft(BinaryTree())\n",
    "            pn_stack.push(cn)\n",
    "            cn = cn.getLeftChild()\n",
    "        elif i in '+-*/':\n",
    "            cn.setRootVal(i)\n",
    "            cn.insertRight(BinaryTree())\n",
    "            pn_stack.push(cn)\n",
    "            cn = cn.getRightChild()\n",
    "        elif i == ')':\n",
    "            cn = pn_stack.pop()\n",
    "        else:  # should try if i is a number\n",
    "            cn.setRootVal(i)\n",
    "            cn = pn_stack.pop()\n",
    "        # print(f\"After step for {i}, value on top of the stack: {pn_stack.peek().getRootVal()}\")\n",
    "    return pt \n",
    "\n",
    "t = build_parse_tree('(5*(7+3))')"
   ]
  },
  {
   "cell_type": "code",
   "execution_count": 59,
   "metadata": {},
   "outputs": [
    {
     "name": "stdout",
     "output_type": "stream",
     "text": [
      "['*', '5', '+', '7', '3'] ['5', '*', '+', '7', '3'] ['5', '7', '3', '+', '*']\n"
     ]
    }
   ],
   "source": [
    "print(t.preorder(), t.inorder(), t.postorder())"
   ]
  },
  {
   "cell_type": "markdown",
   "metadata": {
    "deletable": true,
    "editable": true
   },
   "source": [
    "# Traversals - defined in tree class"
   ]
  },
  {
   "cell_type": "code",
   "execution_count": 113,
   "metadata": {
    "collapsed": false,
    "deletable": true,
    "editable": true
   },
   "outputs": [
    {
     "name": "stdout",
     "output_type": "stream",
     "text": [
      "+\n",
      "2\n",
      "+\n",
      "3\n",
      "4\n",
      "\n",
      "2\n",
      "+\n",
      "+\n",
      "3\n",
      "4\n",
      "\n",
      "2\n",
      "+\n",
      "3\n",
      "4\n",
      "+\n"
     ]
    }
   ],
   "source": [
    "a.preorder()\n",
    "print\n",
    "a.inorder()\n",
    "print\n",
    "a.postorder()"
   ]
  },
  {
   "cell_type": "code",
   "execution_count": 116,
   "metadata": {
    "collapsed": false,
    "deletable": true,
    "editable": true
   },
   "outputs": [],
   "source": [
    "def printexp(tree):\n",
    "    sVal = \"\"\n",
    "    if tree:\n",
    "        sVal = '(' + printexp(tree.getLeftChild())\n",
    "        sVal = sVal + str(tree.getRootVal())\n",
    "        sVal = sVal + printexp(tree.getRightChild())+ ')'\n",
    "    return sVal"
   ]
  },
  {
   "cell_type": "markdown",
   "metadata": {
    "deletable": true,
    "editable": true
   },
   "source": [
    "# Heap\n",
    "\n",
    "* complete binary tree -  a binary tree in which each level has all of its nodes except the last row\n",
    "* Because the tree is complete, the left child of a parent (at position p) is the node that is found in position 2p in the list. Similarly, the right child of the parent is at position 2p+1 in the list\n",
    "* In a heap, for every node x with parent p, the key in p is smaller than or equal to the key in x (min heap)\n",
    "\n",
    "\n",
    "* Implementation: \n",
    "    * as a list (fill 0 at loc 0 so as to start at 1) with methods\n",
    "        * build: sort the first half of a list using perc down\n",
    "        * insert from the end, then percolate up\n",
    "        * to remove min is to remove root, then fill in with the end, and then percolate down"
   ]
  },
  {
   "cell_type": "code",
   "execution_count": 220,
   "metadata": {
    "collapsed": true,
    "deletable": true,
    "editable": true
   },
   "outputs": [],
   "source": [
    "class BinHeap:\n",
    "    '''Implement a min Heap (root is the min)'''\n",
    "    def __init__(self):\n",
    "        self.heapList = [0]\n",
    "        self.currentSize = 0\n",
    "                \n",
    "    def percUp(self, p):        \n",
    "        '''Move element at p up to the right place '''\n",
    "        while p // 2 > 0:\n",
    "            if self.heapList[p] < self.heapList[p // 2]:\n",
    "                self.heapList[p], self.heapList[p // 2] = self.heapList[p / 2], self.heapList[p]\n",
    "            p = p // 2\n",
    "            \n",
    "    def insert(self, key):\n",
    "        self.heapList.append(key)\n",
    "        self.currentSize += 1\n",
    "        self.percUp(self.currentSize)\n",
    "        \n",
    "    def minChild(self, p):\n",
    "        if p * 2 + 1 > self.currentSize:\n",
    "            return p * 2\n",
    "        else:\n",
    "            if self.heapList[p * 2] > self.heapList[p * 2 + 1]:\n",
    "                return p * 2 + 1\n",
    "            else:\n",
    "                return p * 2\n",
    "                \n",
    "    def percDown(self, p):\n",
    "        '''Move element at p down to the right place '''\n",
    "        \n",
    "        while p * 2 <= self.currentSize:\n",
    "            mc = self.minChild(p)\n",
    "            if self.heapList[p] > self.heapList[mc]:\n",
    "                self.heapList[p], self.heapList[mc] = self.heapList[mc], self.heapList[p]\n",
    "            p = mc\n",
    "            \n",
    "    def delMin(self):\n",
    "        retval = self.heapList[1]\n",
    "        self.heapList[1] = self.heapList[self.currentSize]\n",
    "        self.heapList.pop()\n",
    "        self.currentSize -= 1\n",
    "        self.percDown(1)\n",
    "        return retval\n",
    "    \n",
    "    def buildHeap(self, alist):\n",
    "        '''Build heap from a list\n",
    "        Loop back the first half to perc down each element\n",
    "        \n",
    "        '''\n",
    "        i = len(alist) // 2\n",
    "        self.currentSize = len(alist)\n",
    "        self.heapList = [0] + alist\n",
    "        while i > 0:\n",
    "            self.percDown(i)\n",
    "            i -= 1"
   ]
  },
  {
   "cell_type": "code",
   "execution_count": 221,
   "metadata": {
    "collapsed": false,
    "deletable": true,
    "editable": true
   },
   "outputs": [],
   "source": [
    "t = BinHeap()\n",
    "t.buildHeap([0, 9, 5, 6, 2, 3])"
   ]
  },
  {
   "cell_type": "markdown",
   "metadata": {
    "deletable": true,
    "editable": true
   },
   "source": [
    "# BST\n",
    "\n",
    "* keys that are less than the parent are found in the left subtree, and keys that are greater than the parent are found in the right subtree\n",
    "* O(logN) T complexity, worst case O(N) when inserting an ordered list (each node only has right child)"
   ]
  },
  {
   "cell_type": "code",
   "execution_count": 216,
   "metadata": {
    "collapsed": false,
    "deletable": true,
    "editable": true
   },
   "outputs": [],
   "source": [
    "class TreeNode:\n",
    "    \n",
    "    def __init__(self, key, val, left=None, right=None, parent=None):\n",
    "        \n",
    "        self.key = key\n",
    "        self.payload = val\n",
    "        self.leftChild = left\n",
    "        self.rightChild = right\n",
    "        self.parent = parent\n",
    "        \n",
    "    def hasLeftChild(self):\n",
    "        return self.leftChild\n",
    "        \n",
    "    def hasRightChild(self):\n",
    "        return self.rightChild\n",
    "    \n",
    "    def isLeftChild(self):\n",
    "        return self.parent and self.parent.leftChild == self\n",
    "    \n",
    "    def isRightChild(self):\n",
    "        return self.parent and self.parent.rightChild == self\n",
    "    \n",
    "    def isRoot(self):\n",
    "        return not self.parent\n",
    "    \n",
    "    def isLeaf(self):\n",
    "        return not (self.leftChild or self.rightChild)\n",
    "    \n",
    "    def hasAnyChildren(self):\n",
    "        return self.rightChild or self.leftChild\n",
    "    \n",
    "    def hasBothChildren(self):\n",
    "        return self.rightChild and self.leftChild\n",
    "    \n",
    "    def replaceNodeData(self, key, value, lc, rc):\n",
    "        self.key = key\n",
    "        self.payload = value\n",
    "        self.leftChild = lc\n",
    "        self.rightChild = rc\n",
    "        if self.hasLeftChild():\n",
    "            self.leftChild.parent = self\n",
    "        if self.hasRightChild():\n",
    "            self.rightChild.parent = self\n",
    "    \n",
    "    def findMin(self):        \n",
    "        currentNode = self\n",
    "        while currentNode.hasLeftChild():\n",
    "            currentNode = currentNode.leftChild\n",
    "        return currentNode\n",
    "\n",
    "    def findSuccessor(self):\n",
    "        '''Find the next largest in the tree\n",
    "        1. If the node has a right child, then the smallest key in the right subtree.\n",
    "        2. If the node has no right child and is the left child of its parent, then the parent is the successor.\n",
    "        3. If the node has no right child and is the right child of its parent, then the next largest is not \n",
    "            in the subtree starting from this node. Thus the successor to this node is the successor of its \n",
    "            parent, excluding this node.\n",
    "        '''\n",
    "        \n",
    "        succ = None\n",
    "        if self.hasRightChild():\n",
    "            succ = self.rightChild.findMin()\n",
    "        else:\n",
    "            if self.parent:\n",
    "                if self.isLeftChild():\n",
    "                    succ = self.parent\n",
    "                else:\n",
    "                    self.parent.rightChild = None\n",
    "                    succ = self.parent.findSuccessor()\n",
    "                    self.parent.rightChild = self\n",
    "        return succ\n",
    "    \n",
    "    def spliceOut(self):\n",
    "        '''Remove a node which has either no children or one child\n",
    "        '''\n",
    "        if self.isLeaf():\n",
    "            if self.isLeftChild():\n",
    "                self.parent.leftChild == None\n",
    "            else:\n",
    "                self.parent.rightChild == None                \n",
    "        else:\n",
    "            child = self.leftChild if self.hasLeftChild() else self.rightChild\n",
    "            if self.isLeftChild():\n",
    "                self.parent.leftChild = child\n",
    "                child.parent = self.parent\n",
    "            elif self.isRightChild():\n",
    "                self.parent.rightChild = child                \n",
    "                child.parent = self.parent\n",
    "            else: # it's the root\n",
    "                self.replaceNodeData(child.key,\n",
    "                                     child.payload,\n",
    "                                     child.leftChild,\n",
    "                                     child.rightChild)\n",
    "            \n",
    "    \n",
    "class BinarySearchTree:\n",
    "    \n",
    "    def __init__(self):\n",
    "        self.root = None\n",
    "        self.size = 0\n",
    "        \n",
    "    def length(self):\n",
    "        return self.size\n",
    "    \n",
    "    def __len__(self):\n",
    "        return self.size\n",
    "    \n",
    "    def __iter__(self):\n",
    "        return self.root.__iter__()\n",
    "    \n",
    "    def put(self, key, val):\n",
    "        if self.root is None:\n",
    "            # create a new TreeNode as root\n",
    "            self.root = TreeNode(key, val)\n",
    "        else:\n",
    "            self._put(key, val, self.root)\n",
    "        self.size += 1\n",
    "    \n",
    "    def _put(self, key, val, currentNode):\n",
    "        '''Recursively compare key with current node and put '''\n",
    "        if key < currentNode.key:\n",
    "            if currentNode.hasLeftChild():\n",
    "                self._put(key, val, currentNode.leftChild)\n",
    "            else:\n",
    "                currentNode.leftChild = TreeNode(key, val, parent=currentNode)\n",
    "        else:\n",
    "            if currentNode.hasRightChild():\n",
    "                self._put(key, val, currentNode.rightChild)\n",
    "            else:\n",
    "                currentNode.rightChild = TreeNode(key, val, parent=currentNode)\n",
    "    \n",
    "    def __setitem__(self, k, v):\n",
    "        self.put(k, v)\n",
    "        \n",
    "    def get(self, key):\n",
    "        if self.root is None:\n",
    "            return None\n",
    "        else:\n",
    "            node = self._get(key, self.root)\n",
    "            if node is None:\n",
    "                return None\n",
    "            else:\n",
    "                return node.payload\n",
    "        \n",
    "    def _get(self, key, currentNode):\n",
    "        if currentNode is None:\n",
    "            return None\n",
    "        elif key == currentNode.key:\n",
    "            return currentNode\n",
    "        elif key < currentNode.key:\n",
    "            return self._get(key, currentNode.leftChild)            \n",
    "        else: #key > currentNode.key\n",
    "            return self._get(key, currentNode.rightChild)                            \n",
    "            \n",
    "    def __getitem__(self, key):\n",
    "        return self.get(key)\n",
    "    \n",
    "    def __contains__(self, key):\n",
    "        return bool(self.get(key))\n",
    "    \n",
    "    def delete(self, key):\n",
    "        if self.root is None:\n",
    "            raise\n",
    "        elif self.size == 1:\n",
    "            if key != self.root:\n",
    "                raise KeyError('Error, key not in tree')\n",
    "            else:\n",
    "                self.root = None\n",
    "                self.size -= 1\n",
    "        else:\n",
    "            node = self._get(key, self.root)\n",
    "            if node is None:\n",
    "                raise KeyError('Error, key not in tree')\n",
    "            else:\n",
    "                self.remove(node)\n",
    "                self.size -= 1                \n",
    "    \n",
    "    def remove(self, node):\n",
    "        if node.hasBothChildren():\n",
    "            successor = node.findSuccessor()\n",
    "            successor.spliceOut()\n",
    "            node.key = successor.key\n",
    "            node.payload = successor.payload\n",
    "        else:\n",
    "            node.spliceOut()\n",
    "            "
   ]
  },
  {
   "cell_type": "code",
   "execution_count": 219,
   "metadata": {
    "collapsed": false,
    "deletable": true,
    "editable": true
   },
   "outputs": [
    {
     "name": "stdout",
     "output_type": "stream",
     "text": [
      "yellow\n",
      "at\n",
      "4\n",
      "None 3\n"
     ]
    }
   ],
   "source": [
    "mytree = BinarySearchTree()\n",
    "mytree[3]=\"red\"\n",
    "mytree[4]=\"blue\"\n",
    "mytree[6]=\"yellow\"\n",
    "mytree[2]=\"at\"\n",
    "\n",
    "print(mytree[6])\n",
    "print(mytree[2])\n",
    "\n",
    "print mytree.size\n",
    "mytree.delete(4)\n",
    "print(mytree[4]), mytree.size"
   ]
  },
  {
   "cell_type": "markdown",
   "metadata": {
    "deletable": true,
    "editable": true
   },
   "source": [
    "# AVL - Balanced Binary Search Tree\n",
    "* |height diff of the two subtrees of each node| <= 1\n",
    "* To eliminate the worse case in BST O(N)"
   ]
  },
  {
   "cell_type": "code",
   "execution_count": null,
   "metadata": {
    "collapsed": true,
    "deletable": true,
    "editable": true
   },
   "outputs": [],
   "source": []
  }
 ],
 "metadata": {
  "kernelspec": {
   "display_name": "penv",
   "language": "python",
   "name": "python3"
  },
  "language_info": {
   "codemirror_mode": {
    "name": "ipython",
    "version": 3
   },
   "file_extension": ".py",
   "mimetype": "text/x-python",
   "name": "python",
   "nbconvert_exporter": "python",
   "pygments_lexer": "ipython3",
   "version": "3.11.4"
  },
  "toc": {
   "base_numbering": 1,
   "nav_menu": {},
   "number_sections": true,
   "sideBar": true,
   "skip_h1_title": false,
   "title_cell": "Table of Contents",
   "title_sidebar": "Contents",
   "toc_cell": false,
   "toc_position": {
    "height": "calc(100% - 180px)",
    "left": "10px",
    "top": "150px",
    "width": "165px"
   },
   "toc_section_display": true,
   "toc_window_display": true
  }
 },
 "nbformat": 4,
 "nbformat_minor": 2
}
