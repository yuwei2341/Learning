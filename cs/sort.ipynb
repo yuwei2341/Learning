{
 "cells": [
  {
   "cell_type": "markdown",
   "metadata": {},
   "source": [
    "## Bubble: The bubble sort makes multiple passes through a list. It compares adjacent items and exchanges those that are out of order. Each pass through the list places the next largest value in its proper place. In essence, each item “bubbles” up to the location where it belongs."
   ]
  },
  {
   "cell_type": "code",
   "execution_count": 10,
   "metadata": {
    "collapsed": false
   },
   "outputs": [
    {
     "name": "stdout",
     "output_type": "stream",
     "text": [
      "[]\n",
      "[1]\n",
      "[1, 2]\n",
      "[1, 2]\n",
      "[1, 2, 3, 4, 5, 6, 7, 8, 9, 10]\n",
      "[1, 3, 12]\n"
     ]
    }
   ],
   "source": [
    "def BubbleSort(aList):\n",
    "    for ii in range(len(aList) - 1, 0, -1):\n",
    "        for jj in range(ii):\n",
    "            if aList[jj] > aList[jj + 1]:\n",
    "                aList[jj], aList[jj + 1] = aList[jj + 1], aList[jj]\n",
    "    return aList\n",
    "\n",
    "print BubbleSort([])\n",
    "print BubbleSort([1])\n",
    "print BubbleSort([1, 2])\n",
    "print BubbleSort([2, 1])                \n",
    "print BubbleSort(range(10, 0, -1))\n",
    "print BubbleSort([12, 1, 3])"
   ]
  },
  {
   "cell_type": "raw",
   "metadata": {},
   "source": [
    "## bidirection bubble sort - good for small values on the right"
   ]
  },
  {
   "cell_type": "markdown",
   "metadata": {},
   "source": [
    "A bubble sort can be modified to “bubble” in both directions. The first pass moves “up” the list, and the second pass moves “down.” This alternating pattern continues until no more passes are necessary. Implement this variation and describe under what circumstances it might be appropriate."
   ]
  },
  {
   "cell_type": "code",
   "execution_count": 1,
   "metadata": {
    "collapsed": false
   },
   "outputs": [
    {
     "name": "stdout",
     "output_type": "stream",
     "text": [
      "[1, 2, 3, 4, 5, 6, 7, 8, 9, 10]\n",
      "[1, 3, 12]\n"
     ]
    }
   ],
   "source": [
    "# alternatively, can use begin, and end as two markers for the location\n",
    "def BubbleSort(aList):\n",
    "    for ii in range(len(aList) - 1, 0, -1):\n",
    "        for jj in range(ii):\n",
    "            if aList[jj] > aList[jj + 1]:\n",
    "                aList[jj], aList[jj + 1] = aList[jj + 1], aList[jj]\n",
    "        for jj in range(-1, -ii, -1):\n",
    "            if aList[jj] < aList[jj - 1]:\n",
    "                aList[jj], aList[jj - 1] = aList[jj - 1], aList[jj]\n",
    "    return aList\n",
    "\n",
    "print BubbleSort(range(10, 0, -1))\n",
    "print BubbleSort([12, 1, 3])"
   ]
  },
  {
   "cell_type": "code",
   "execution_count": 13,
   "metadata": {
    "collapsed": false
   },
   "outputs": [
    {
     "name": "stdout",
     "output_type": "stream",
     "text": [
      "[]\n",
      "[1]\n",
      "[1, 2]\n",
      "[1, 2]\n",
      "[1, 2, 3, 4, 5, 6, 7, 8, 9, 10]\n",
      "[1, 3, 12]\n"
     ]
    }
   ],
   "source": [
    "def BubbleSort(aList):\n",
    "    left = 0\n",
    "    right = len(aList) - 1\n",
    "    while left < right:\n",
    "        for jj in range(left, right):\n",
    "            if aList[jj] > aList[jj + 1]:\n",
    "                aList[jj], aList[jj + 1] = aList[jj + 1], aList[jj]\n",
    "        right -= 1\n",
    "        for jj in range(right, left, -1):\n",
    "            if aList[jj] < aList[jj - 1]:\n",
    "                aList[jj], aList[jj - 1] = aList[jj - 1], aList[jj]\n",
    "        left += 1\n",
    "    return aList\n",
    "        \n",
    "print BubbleSort([])\n",
    "print BubbleSort([1])\n",
    "print BubbleSort([1, 2])\n",
    "print BubbleSort([2, 1])                \n",
    "print BubbleSort(range(10, 0, -1))\n",
    "print BubbleSort([12, 1, 3])"
   ]
  },
  {
   "cell_type": "markdown",
   "metadata": {},
   "source": [
    "## Selection sort - as with bubble sort, but instead of making all swaps during a pass, note down the location of the largest number, and swap it with the last one of that pass"
   ]
  },
  {
   "cell_type": "code",
   "execution_count": 15,
   "metadata": {
    "collapsed": false
   },
   "outputs": [
    {
     "name": "stdout",
     "output_type": "stream",
     "text": [
      "[]\n",
      "[1]\n",
      "[1, 1, 1]\n",
      "[1, 2]\n",
      "[1, 2]\n",
      "[1, 2, 3, 4, 5, 6, 7, 8, 9, 10]\n",
      "[1, 3, 12]\n"
     ]
    }
   ],
   "source": [
    "def SelectionSort(aList):\n",
    "    for ii in range(len(aList) - 1, 0, -1):\n",
    "        max_ind = ii\n",
    "        for jj in range(ii):\n",
    "            if aList[jj] > aList[max_ind]:\n",
    "                max_ind = jj\n",
    "        aList[max_ind], aList[ii] = aList[ii], aList[max_ind]                         \n",
    "    return aList\n",
    "        \n",
    "print SelectionSort([])\n",
    "print SelectionSort([1])\n",
    "print SelectionSort([1, 1, 1])\n",
    "print SelectionSort([1, 2])\n",
    "print SelectionSort([2, 1])                \n",
    "print SelectionSort(range(10, 0, -1))\n",
    "print SelectionSort([12, 1, 3])"
   ]
  },
  {
   "cell_type": "markdown",
   "metadata": {},
   "source": [
    "## The insertion sort"
   ]
  },
  {
   "cell_type": "markdown",
   "metadata": {},
   "source": [
    "Although still O(n2), works in a slightly different way. It always maintains a sorted sublist in the lower positions of the list. Each new item is then “inserted” back into the previous sublist such that the sorted sublist is one item larger. \n",
    "\n",
    "As we look back into the already sorted sublist, we shift those items that are greater to the right. When we reach a smaller item or the end of the sublist, the current item can be inserted.\n",
    "\n",
    " In general, a shift operation requires approximately a third of the processing work of an exchange since only one assignment is performed. "
   ]
  },
  {
   "cell_type": "code",
   "execution_count": 21,
   "metadata": {
    "collapsed": false
   },
   "outputs": [
    {
     "name": "stdout",
     "output_type": "stream",
     "text": [
      "[]\n",
      "[1]\n",
      "[1, 1, 1]\n",
      "[1, 2]\n",
      "[1, 2]\n",
      "[1, 2, 3, 4, 5, 6, 7, 8, 9, 10]\n",
      "[1, 3, 12]\n"
     ]
    }
   ],
   "source": [
    "def InsertionSort(aList):\n",
    "    for ii in range(1, len(aList)):\n",
    "        newSubVal = aList[ii]\n",
    "        jj = ii\n",
    "        while jj > 0 and newSubVal < aList[jj - 1]:\n",
    "            aList[jj] = aList[jj - 1]\n",
    "            jj -= 1\n",
    "        aList[jj] = newSubVal\n",
    "    return aList\n",
    "        \n",
    "print InsertionSort([])\n",
    "print InsertionSort([1])\n",
    "print InsertionSort([1, 1, 1])\n",
    "print InsertionSort([1, 2])\n",
    "print InsertionSort([2, 1])                \n",
    "print InsertionSort(range(10, 0, -1))\n",
    "print InsertionSort([12, 1, 3])"
   ]
  },
  {
   "cell_type": "markdown",
   "metadata": {},
   "source": [
    "## Merge Sort"
   ]
  },
  {
   "cell_type": "markdown",
   "metadata": {},
   "source": [
    "divide a list to 2 sublists, sort the sublists, then merge 2 sorted list"
   ]
  },
  {
   "cell_type": "markdown",
   "metadata": {},
   "source": [
    "Divide and conquer\n",
    "\n",
    "recursive algorithm that continually splits a list in half. \n",
    "1. If the list is empty or has one item, it is sorted by definition (the base case). \n",
    "1. If the list has more than one item, we split the list and recursively invoke a merge sort on both halves.\n",
    "1. Merging is the process of taking two smaller sorted lists and combining them together into a single, sorted, new list"
   ]
  },
  {
   "cell_type": "code",
   "execution_count": 9,
   "metadata": {
    "collapsed": false
   },
   "outputs": [
    {
     "name": "stdout",
     "output_type": "stream",
     "text": [
      "[]\n",
      "[1]\n",
      "[1, 1, 1]\n",
      "[1, 2]\n",
      "[1, 2]\n",
      "[1, 2, 3, 4, 5, 6, 7, 8, 9, 10]\n",
      "[1, 3, 12]\n"
     ]
    }
   ],
   "source": [
    "def MergeSort(aList):\n",
    "    if len(aList) < 2:\n",
    "        return aList       \n",
    "    else:\n",
    "        left = MergeSort(aList[:len(aList) // 2])\n",
    "        right = MergeSort(aList[len(aList) // 2:])\n",
    "        merged = []\n",
    "        ii = 0\n",
    "        jj = 0\n",
    "        while ii < len(left) and jj < len(right):\n",
    "            if left[ii] <= right[jj]:\n",
    "                merged.append(left[ii])\n",
    "                ii += 1\n",
    "            else:\n",
    "                merged.append(right[jj])\n",
    "                jj += 1\n",
    "        if ii == len(left):\n",
    "            merged += right[jj:]\n",
    "        else:\n",
    "            merged += left[ii:]\n",
    "        return merged\n",
    "    \n",
    "print MergeSort([])\n",
    "print MergeSort([1])\n",
    "print MergeSort([1, 1, 1])\n",
    "print MergeSort([1, 2])\n",
    "print MergeSort([2, 1])                \n",
    "print MergeSort(range(10, 0, -1))\n",
    "print MergeSort([12, 1, 3])"
   ]
  },
  {
   "cell_type": "markdown",
   "metadata": {},
   "source": [
    "## Quick sort"
   ]
  },
  {
   "cell_type": "code",
   "execution_count": 29,
   "metadata": {
    "collapsed": true
   },
   "outputs": [],
   "source": [
    "def QuickSortHelper(aList, first, last):\n",
    "    if first >= last: # base case; return when part to sort is shorter than 2\n",
    "        return \n",
    "    \n",
    "    # swap values along pivor point\n",
    "    lm = first + 1\n",
    "    rm = last\n",
    "    \n",
    "    while lm <= rm:\n",
    "        while lm <= rm and aList[lm] <= aList[first]:\n",
    "            lm += 1\n",
    "        while lm <= rm and aList[rm] >= aList[first]:\n",
    "            rm -= 1\n",
    "        if lm <= rm:\n",
    "            aList[lm], aList[rm] = aList[rm], aList[lm]\n",
    "    # lm > rm, therefore the last step won't be the swap above\n",
    "    # if the while stops while moving lm, rm points to a value smaller than first\n",
    "    # if the while stops while moving rm, since rm passes lm, rm points to a value smaller than first\n",
    "    # since lm starts from first + 1, rm won't be out of index in any case\n",
    "    aList[first], aList[rm] = aList[rm], aList[first]\n",
    "    \n",
    "    QuickSortHelper(aList, first, rm - 1)\n",
    "    QuickSortHelper(aList, rm + 1, last)\n",
    "    \n",
    "def QuickSort(aList):\n",
    "    QuickSortHelper(aList, 0, len(aList) - 1)\n",
    "    print aList\n",
    "\n",
    "QuickSort([])\n",
    "QuickSort([1])\n",
    "QuickSort([1, 1, 1])\n",
    "QuickSort([1, 2])\n",
    "QuickSort([2, 1])                \n",
    "QuickSort(range(10, 0, -1))\n",
    "QuickSort([12, 1, 3])"
   ]
  },
  {
   "cell_type": "markdown",
   "metadata": {},
   "source": [
    "1. choose pivot value (the first element)\n",
    "1. partition: move items that are on the wrong side with respect to the pivot value while also converging on the split point.\n",
    "    1. move leftmark and rightmark and stop at a point greater than pivot value (left), and a point less than pivot value (right)\n",
    "    1. swap the two\n",
    "    1. At the point where rightmark becomes less than leftmark, we stop.\n",
    "1. go the two parts separated by the pivot value and recursively solve the rest\n",
    "1. stop when the part is []"
   ]
  },
  {
   "cell_type": "code",
   "execution_count": 7,
   "metadata": {
    "collapsed": false
   },
   "outputs": [],
   "source": [
    "import pdb\n",
    "def parittion(aList, first, last):\n",
    "    leftMark = first + 1\n",
    "    rightMark = last\n",
    "    #pdb.set_trace()\n",
    "    while leftMark <= rightMark:\n",
    "        while leftMark <= rightMark and aList[leftMark] <= aList[first]:\n",
    "            leftMark += 1\n",
    "        while leftMark <= rightMark and aList[rightMark] >= aList[first]:\n",
    "            rightMark -= 1\n",
    "        if leftMark <= rightMark:\n",
    "            aList[leftMark], aList[rightMark] = aList[rightMark], aList[leftMark]\n",
    "    # swap the pivot value to where it should be\n",
    "    aList[first], aList[rightMark] = aList[rightMark], aList[first]\n",
    "    print aList\n",
    "    print rightMark\n",
    "    return rightMark\n",
    "       \n",
    "def quickSortHelper(aList, first, last):\n",
    "    if first < last:\n",
    "        rightMark = parittion(aList, first, last)\n",
    "        quickSortHelper(aList, first, rightMark - 1)\n",
    "        quickSortHelper(aList, rightMark + 1, last)\n",
    "        \n",
    "def quickSort(aList):\n",
    "    quickSortHelper(aList, 0, len(aList) - 1)"
   ]
  },
  {
   "cell_type": "code",
   "execution_count": 8,
   "metadata": {
    "collapsed": false
   },
   "outputs": [
    {
     "name": "stdout",
     "output_type": "stream",
     "text": [
      "[10, 9, 8, 7, 6, 5, 4, 3, 2, 1]\n",
      "[1, 9, 8, 7, 6, 5, 4, 3, 2, 10]\n",
      "9\n",
      "[1, 9, 8, 7, 6, 5, 4, 3, 2, 10]\n",
      "0\n",
      "[1, 2, 8, 7, 6, 5, 4, 3, 9, 10]\n",
      "8\n",
      "[1, 2, 8, 7, 6, 5, 4, 3, 9, 10]\n",
      "1\n",
      "[1, 2, 3, 7, 6, 5, 4, 8, 9, 10]\n",
      "7\n",
      "[1, 2, 3, 7, 6, 5, 4, 8, 9, 10]\n",
      "2\n",
      "[1, 2, 3, 4, 6, 5, 7, 8, 9, 10]\n",
      "6\n",
      "[1, 2, 3, 4, 6, 5, 7, 8, 9, 10]\n",
      "3\n",
      "[1, 2, 3, 4, 5, 6, 7, 8, 9, 10]\n",
      "5\n",
      "[1, 2, 3, 4, 5, 6, 7, 8, 9, 10]\n"
     ]
    }
   ],
   "source": [
    "aList = range(10, 0, -1)\n",
    "\n",
    "#aList[0] = 5\n",
    "print aList\n",
    "quickSort(aList)\n",
    "print aList"
   ]
  },
  {
   "cell_type": "markdown",
   "metadata": {},
   "source": [
    "## Heap sort"
   ]
  },
  {
   "cell_type": "markdown",
   "metadata": {},
   "source": [
    "heap: \n",
    "1. every level, except possibly the last, is completely filled, and all nodes in the last level are as far left as possible. - breadth first fill\n",
    "1. The index of parent is index of children // 2\n",
    "1. The value of parent is always larger/smaller than that of child\n",
    "1. So the root value is the largest/smallest one\n",
    "    - since the subtrees are also a heap, the root value of the subtree is also the largest of the subtree\n"
   ]
  },
  {
   "cell_type": "markdown",
   "metadata": {},
   "source": [
    "https://www.cs.usfca.edu/~galles/visualization/HeapSort.html\n",
    "http://rosettacode.org/wiki/Sorting_algorithms/Heapsort#Python\n",
    "\n"
   ]
  },
  {
   "cell_type": "code",
   "execution_count": 72,
   "metadata": {
    "collapsed": false
   },
   "outputs": [],
   "source": [
    "def HeapSort(aList):\n",
    "    # Heapify: bottom up: Get to the 2nd to last level (last level of parents)\n",
    "    print 'heapify'\n",
    "    for ii in range((len(aList) - 2) // 2, -1, -1):\n",
    "        print ii\n",
    "        SiftDown(aList, ii, len(aList) - 1)                  \n",
    "    # Pop the root (largest value) and re-heapify the rest\n",
    "    print 'now pop the root'\n",
    "    for ii in range((len(aList) - 1), 0, -1):\n",
    "        print ii - 1\n",
    "        # swap root with the last of current list, so that the last of current list is the largest one so far\n",
    "        aList[ii], aList[0] = aList[0], aList[ii]\n",
    "        # the rest is still heapified except the new root\n",
    "        SiftDown(aList, 0, ii - 1)\n",
    "\n",
    "def SiftDown(aList, start, end):\n",
    "    # sift down the node at start to proper place (down if small), by swapping with the largest child,\n",
    "    # given that the nodes below start are already heap\n",
    "    # can be used to re-heapify a list after the root is replaced\n",
    "    # by doing this the root becomes the largest one    \n",
    "    print aList\n",
    "    root = start\n",
    "    child = root * 2 + 1\n",
    "    while child <= end:\n",
    "        # find the largest child between the two\n",
    "        if (child + 1) <= end and aList[child + 1] > aList[child]:\n",
    "            child += 1\n",
    "        # swap with the largest child if root is smaller, then go to next level\n",
    "        if aList[child] > aList[root]:\n",
    "            aList[child], aList[root] = aList[root], aList[child]\n",
    "            root = child\n",
    "            child = root * 2 + 1\n",
    "            print aList\n",
    "        # if root is not smaller, since the nodes below are already heaps, stop here            \n",
    "        else:\n",
    "            break"
   ]
  },
  {
   "cell_type": "code",
   "execution_count": 73,
   "metadata": {
    "collapsed": false
   },
   "outputs": [
    {
     "name": "stdout",
     "output_type": "stream",
     "text": [
      "heapify\n",
      "0\n",
      "[2, 1]\n",
      "now pop the root\n",
      "0\n",
      "[1, 2]\n"
     ]
    }
   ],
   "source": [
    "aList = [2, 1]\n",
    "HeapSort(aList)"
   ]
  },
  {
   "cell_type": "code",
   "execution_count": 75,
   "metadata": {
    "collapsed": false
   },
   "outputs": [
    {
     "name": "stdout",
     "output_type": "stream",
     "text": [
      "heapify\n",
      "4\n",
      "[0, 1, 2, 3, 4, 5, 6, 7, 8, 9]\n",
      "[0, 1, 2, 3, 9, 5, 6, 7, 8, 4]\n",
      "3\n",
      "[0, 1, 2, 3, 9, 5, 6, 7, 8, 4]\n",
      "[0, 1, 2, 8, 9, 5, 6, 7, 3, 4]\n",
      "2\n",
      "[0, 1, 2, 8, 9, 5, 6, 7, 3, 4]\n",
      "[0, 1, 6, 8, 9, 5, 2, 7, 3, 4]\n",
      "1\n",
      "[0, 1, 6, 8, 9, 5, 2, 7, 3, 4]\n",
      "[0, 9, 6, 8, 1, 5, 2, 7, 3, 4]\n",
      "[0, 9, 6, 8, 4, 5, 2, 7, 3, 1]\n",
      "0\n",
      "[0, 9, 6, 8, 4, 5, 2, 7, 3, 1]\n",
      "[9, 0, 6, 8, 4, 5, 2, 7, 3, 1]\n",
      "[9, 8, 6, 0, 4, 5, 2, 7, 3, 1]\n",
      "[9, 8, 6, 7, 4, 5, 2, 0, 3, 1]\n",
      "now pop the root\n",
      "8\n",
      "[1, 8, 6, 7, 4, 5, 2, 0, 3, 9]\n",
      "[8, 1, 6, 7, 4, 5, 2, 0, 3, 9]\n",
      "[8, 7, 6, 1, 4, 5, 2, 0, 3, 9]\n",
      "[8, 7, 6, 3, 4, 5, 2, 0, 1, 9]\n",
      "7\n",
      "[1, 7, 6, 3, 4, 5, 2, 0, 8, 9]\n",
      "[7, 1, 6, 3, 4, 5, 2, 0, 8, 9]\n",
      "[7, 4, 6, 3, 1, 5, 2, 0, 8, 9]\n",
      "6\n",
      "[0, 4, 6, 3, 1, 5, 2, 7, 8, 9]\n",
      "[6, 4, 0, 3, 1, 5, 2, 7, 8, 9]\n",
      "[6, 4, 5, 3, 1, 0, 2, 7, 8, 9]\n",
      "5\n",
      "[2, 4, 5, 3, 1, 0, 6, 7, 8, 9]\n",
      "[5, 4, 2, 3, 1, 0, 6, 7, 8, 9]\n",
      "4\n",
      "[0, 4, 2, 3, 1, 5, 6, 7, 8, 9]\n",
      "[4, 0, 2, 3, 1, 5, 6, 7, 8, 9]\n",
      "[4, 3, 2, 0, 1, 5, 6, 7, 8, 9]\n",
      "3\n",
      "[1, 3, 2, 0, 4, 5, 6, 7, 8, 9]\n",
      "[3, 1, 2, 0, 4, 5, 6, 7, 8, 9]\n",
      "2\n",
      "[0, 1, 2, 3, 4, 5, 6, 7, 8, 9]\n",
      "[2, 1, 0, 3, 4, 5, 6, 7, 8, 9]\n",
      "1\n",
      "[0, 1, 2, 3, 4, 5, 6, 7, 8, 9]\n",
      "[1, 0, 2, 3, 4, 5, 6, 7, 8, 9]\n",
      "0\n",
      "[0, 1, 2, 3, 4, 5, 6, 7, 8, 9]\n"
     ]
    }
   ],
   "source": [
    "aList = (range(10))\n",
    "HeapSort(aList)"
   ]
  },
  {
   "cell_type": "code",
   "execution_count": 76,
   "metadata": {
    "collapsed": false
   },
   "outputs": [
    {
     "name": "stdout",
     "output_type": "stream",
     "text": [
      "heapify\n",
      "2\n",
      "[7, 6, 5, 9, 8, 4, 3]\n",
      "1\n",
      "[7, 6, 5, 9, 8, 4, 3]\n",
      "[7, 9, 5, 6, 8, 4, 3]\n",
      "0\n",
      "[7, 9, 5, 6, 8, 4, 3]\n",
      "[9, 7, 5, 6, 8, 4, 3]\n",
      "[9, 8, 5, 6, 7, 4, 3]\n",
      "now pop the root\n",
      "5\n",
      "[3, 8, 5, 6, 7, 4, 9]\n",
      "[8, 3, 5, 6, 7, 4, 9]\n",
      "[8, 7, 5, 6, 3, 4, 9]\n",
      "4\n",
      "[4, 7, 5, 6, 3, 8, 9]\n",
      "[7, 4, 5, 6, 3, 8, 9]\n",
      "[7, 6, 5, 4, 3, 8, 9]\n",
      "3\n",
      "[3, 6, 5, 4, 7, 8, 9]\n",
      "[6, 3, 5, 4, 7, 8, 9]\n",
      "[6, 4, 5, 3, 7, 8, 9]\n",
      "2\n",
      "[3, 4, 5, 6, 7, 8, 9]\n",
      "[5, 4, 3, 6, 7, 8, 9]\n",
      "1\n",
      "[3, 4, 5, 6, 7, 8, 9]\n",
      "[4, 3, 5, 6, 7, 8, 9]\n",
      "0\n",
      "[3, 4, 5, 6, 7, 8, 9]\n"
     ]
    }
   ],
   "source": [
    "aList = [7, 6, 5, 9, 8, 4, 3]\n",
    "HeapSort(aList)"
   ]
  },
  {
   "cell_type": "code",
   "execution_count": null,
   "metadata": {
    "collapsed": true
   },
   "outputs": [],
   "source": []
  },
  {
   "cell_type": "code",
   "execution_count": null,
   "metadata": {
    "collapsed": true
   },
   "outputs": [],
   "source": []
  }
 ],
 "metadata": {
  "kernelspec": {
   "display_name": "Python 2",
   "language": "python",
   "name": "python2"
  },
  "language_info": {
   "codemirror_mode": {
    "name": "ipython",
    "version": 2
   },
   "file_extension": ".py",
   "mimetype": "text/x-python",
   "name": "python",
   "nbconvert_exporter": "python",
   "pygments_lexer": "ipython2",
   "version": "2.7.9"
  }
 },
 "nbformat": 4,
 "nbformat_minor": 0
}
