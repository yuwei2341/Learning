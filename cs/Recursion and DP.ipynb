{
 "cells": [
  {
   "cell_type": "markdown",
   "metadata": {},
   "source": [
    "## Least coins for changing coins or steps: if there are k freedom (kinds of coins, # of steps one can take), think of k conditions (n - values of the k kinds)"
   ]
  },
  {
   "cell_type": "markdown",
   "metadata": {},
   "source": [
    "### What coins are needed"
   ]
  },
  {
   "cell_type": "code",
   "execution_count": 1,
   "metadata": {
    "collapsed": false
   },
   "outputs": [],
   "source": [
    "# method 1: recursive\n",
    "def ChangeCoin(n, k, c):\n",
    "    if k > 0: # top down; use as many the largest as possible\n",
    "        return ChangeCoin(n % c[k], k - 1, c) + [n // c[k]]\n",
    "    elif k == 0: # base: if using the smallest coin (1), just return n // 1 of 1s\n",
    "        return [n]"
   ]
  },
  {
   "cell_type": "code",
   "execution_count": 2,
   "metadata": {
    "collapsed": false
   },
   "outputs": [
    {
     "data": {
      "text/plain": [
       "[3, 0, 1, 1]"
      ]
     },
     "execution_count": 2,
     "metadata": {},
     "output_type": "execute_result"
    }
   ],
   "source": [
    "c = [1, 5, 10, 25]\n",
    "ChangeCoin(38, len(c) - 1, c)"
   ]
  },
  {
   "cell_type": "markdown",
   "metadata": {},
   "source": [
    "### min # of coins needed"
   ]
  },
  {
   "cell_type": "code",
   "execution_count": 3,
   "metadata": {
    "collapsed": false
   },
   "outputs": [],
   "source": [
    "# recursion\n",
    "def ChangeCoin(n):\n",
    "    if (n == 1) or (n == 5) or (n == 10) or (n == 25):\n",
    "        return 1\n",
    "    elif n < 0:\n",
    "        return 100\n",
    "    else:\n",
    "        return 1 + min(ChangeCoin(n - 1), ChangeCoin(n - 5), ChangeCoin(n - 10), ChangeCoin(n - 25))"
   ]
  },
  {
   "cell_type": "code",
   "execution_count": 8,
   "metadata": {
    "collapsed": false
   },
   "outputs": [
    {
     "data": {
      "text/plain": [
       "6"
      ]
     },
     "execution_count": 8,
     "metadata": {},
     "output_type": "execute_result"
    }
   ],
   "source": [
    "ChangeCoin(34)"
   ]
  },
  {
   "cell_type": "code",
   "execution_count": 22,
   "metadata": {
    "collapsed": false
   },
   "outputs": [],
   "source": [
    "# DP\n",
    "def ChangeCoin(n, coinValueList):\n",
    "    coinList = (n + 1) * [0] # nubmer of coins used for n\n",
    "    coinUsed = (n + 1) * [0] # coins used for n\n",
    "    for ii in range(n + 1):\n",
    "        coinTemp = [ii] # store coins for a specific combination\n",
    "        minCoin = ii\n",
    "        for jj in [c for c in coinValueList if c <= ii]:\n",
    "            nCoin = coinList[ii - jj]\n",
    "            if nCoin == 0: # ii == jj\n",
    "                coinTemp = [jj]\n",
    "                minCoin = nCoin + 1\n",
    "                break\n",
    "            elif (nCoin + 1) <= minCoin:\n",
    "                minCoin = nCoin + 1\n",
    "                coinTemp = [jj] + coinUsed[ii - jj]\n",
    "        coinList[ii] = minCoin\n",
    "        coinUsed[ii] = coinTemp\n",
    "    return coinList[n], coinUsed[n]"
   ]
  },
  {
   "cell_type": "code",
   "execution_count": 23,
   "metadata": {
    "collapsed": false
   },
   "outputs": [
    {
     "data": {
      "text/plain": [
       "(8, [25, 25, 25, 10, 5, 1, 1, 1])"
      ]
     },
     "execution_count": 23,
     "metadata": {},
     "output_type": "execute_result"
    }
   ],
   "source": [
    "ChangeCoin(93, [1, 5, 10, 25])\n"
   ]
  },
  {
   "cell_type": "markdown",
   "metadata": {},
   "source": [
    "### Factorial of a number in recursion"
   ]
  },
  {
   "cell_type": "code",
   "execution_count": 5,
   "metadata": {
    "collapsed": false
   },
   "outputs": [
    {
     "name": "stdout",
     "output_type": "stream",
     "text": [
      "1\n",
      "1\n",
      "120\n"
     ]
    }
   ],
   "source": [
    "def factorial(n):\n",
    "    l_fac = (n + 1) * [1]\n",
    "    for ii in range(1, n + 1):\n",
    "        \n",
    "        l_fac[ii] = ii * l_fac[ii - 1]\n",
    "        \n",
    "    return l_fac[-1]\n",
    "\n",
    "print factorial(0)\n",
    "print factorial(1)\n",
    "print factorial(5)"
   ]
  },
  {
   "cell_type": "code",
   "execution_count": 1,
   "metadata": {
    "collapsed": false
   },
   "outputs": [
    {
     "name": "stdout",
     "output_type": "stream",
     "text": [
      "1\n",
      "1\n",
      "120\n"
     ]
    }
   ],
   "source": [
    "def factorial(n):\n",
    "    # assume n is a non-negative integer\n",
    "    if n == 0:\n",
    "        return 1\n",
    "    else:\n",
    "        return n * factorial(n - 1)\n",
    "    \n",
    "print factorial(0)\n",
    "print factorial(1)\n",
    "print factorial(5)"
   ]
  },
  {
   "cell_type": "markdown",
   "metadata": {},
   "source": [
    "### reverse a list"
   ]
  },
  {
   "cell_type": "code",
   "execution_count": 7,
   "metadata": {
    "collapsed": false
   },
   "outputs": [
    {
     "name": "stdout",
     "output_type": "stream",
     "text": [
      "[]\n",
      "[1]\n",
      "[2, 1]\n",
      "[3, 2, 1]\n",
      "[4, 3, 2, 1]\n"
     ]
    }
   ],
   "source": [
    "def RevList(aList):\n",
    "    if len(aList) < 2:\n",
    "        return aList\n",
    "    else:\n",
    "        return aList[-1:] + RevList(aList[:-1])\n",
    "    \n",
    "print RevList([])\n",
    "print RevList([1])\n",
    "print RevList([1, 2])\n",
    "print RevList([1, 2, 3])\n",
    "print RevList([1, 2, 3, 4])"
   ]
  },
  {
   "cell_type": "code",
   "execution_count": 25,
   "metadata": {
    "collapsed": true
   },
   "outputs": [],
   "source": [
    "def RevListDP(aList):\n",
    "    n = len(aList)\n",
    "    rList = [[]] * (n + 1)\n",
    "    for ii in range(1, n + 1):\n",
    "        rList[ii] = [aList[ii - 1]] + rList[ii - 1]\n",
    "    return rList[n]"
   ]
  },
  {
   "cell_type": "code",
   "execution_count": 29,
   "metadata": {
    "collapsed": false
   },
   "outputs": [
    {
     "data": {
      "text/plain": [
       "[9, 8, 7, 6, 5, 4, 3, 2, 1, 0]"
      ]
     },
     "execution_count": 29,
     "metadata": {},
     "output_type": "execute_result"
    }
   ],
   "source": [
    "RevListDP(range(10))"
   ]
  },
  {
   "cell_type": "markdown",
   "metadata": {},
   "source": [
    "## Fibonacci sequence"
   ]
  },
  {
   "cell_type": "code",
   "execution_count": 46,
   "metadata": {
    "collapsed": false
   },
   "outputs": [
    {
     "name": "stdout",
     "output_type": "stream",
     "text": [
      "[1]\n",
      "[1, 1]\n",
      "[1, 1, 2, 3, 5, 8, 13, 21, 34, 55]\n"
     ]
    }
   ],
   "source": [
    "def Fib(n):\n",
    "    # assume positive integer\n",
    "    if n == 1:\n",
    "        return [1]\n",
    "    elif n == 2:\n",
    "        return [1, 1]\n",
    "    else:\n",
    "        return Fib(n - 1) + [Fib(n - 1)[-1] + Fib(n - 1)[-2]]\n",
    "\n",
    "print Fib(1)\n",
    "print Fib(2)\n",
    "print Fib(10)\n",
    "\n",
    "# Complexity F(n) = 1 (F(n-1)) + 2 (F(n-2)) + 3 (F(n-3)) + ... + n = n(n+1)/2 ~ O(n^2)"
   ]
  },
  {
   "cell_type": "code",
   "execution_count": 58,
   "metadata": {
    "collapsed": true
   },
   "outputs": [],
   "source": [
    "def FibDP(n):    \n",
    "    # assume positive integer\n",
    "    if n < 1:\n",
    "        print 'Only accept +tive number'\n",
    "        return None\n",
    "    if n == 1:\n",
    "        return [1]\n",
    "    out = [None] * (n + 1)\n",
    "    out[1] = [1]\n",
    "    out[2] = [1, 1]\n",
    "    for ii in range(3, n + 1):\n",
    "        out[ii] = out[ii - 1] + [out[ii - 1][-1] + out[ii - 1][-2]]\n",
    "    return out[n]"
   ]
  },
  {
   "cell_type": "code",
   "execution_count": 67,
   "metadata": {
    "collapsed": false
   },
   "outputs": [
    {
     "data": {
      "text/plain": [
       "[1, 1, 2, 3, 5, 8, 13, 21, 34, 55]"
      ]
     },
     "execution_count": 67,
     "metadata": {},
     "output_type": "execute_result"
    }
   ],
   "source": [
    "FibDP(10)"
   ]
  },
  {
   "cell_type": "markdown",
   "metadata": {},
   "source": [
    "## The 4-gallon, 3-gallon problem"
   ]
  },
  {
   "cell_type": "code",
   "execution_count": 20,
   "metadata": {
    "collapsed": true
   },
   "outputs": [],
   "source": [
    "def jarProb(jarN, leftN):\n",
    "    # twr jugs; one L can contain jarN[0], one S can contain jarN[1]; get steps to make the large one contain leftN\n",
    "    # to leftN in L, need to have L-leftN empty in S, S is full with S-(L-leftN)\n",
    "    jar_fillN = jarN[:]\n",
    "    counter = 0\n",
    "    while True and counter < 20:\n",
    "        counter += 1\n",
    "        if jar_fillN[0] > (jarN[1] - jar_fillN[1]): # if L has more than S can take, pour from L to S and empty S\n",
    "            jar_fillN[0] -= (jarN[1] - jar_fillN[1])\n",
    "            jar_fillN[1] = 0\n",
    "        else: # If L has less than S can take, pour from L to S and refill L\n",
    "            jar_fillN[1] += jar_fillN[0]\n",
    "            jar_fillN[0] = jarN[0] \n",
    "        print jar_fillN\n",
    "        if jar_fillN[0] == leftN:\n",
    "            break \n",
    "        if jar_fillN == jarN: # back to the beginning\n",
    "            print \"no solution\"\n",
    "            break"
   ]
  },
  {
   "cell_type": "code",
   "execution_count": 24,
   "metadata": {
    "collapsed": false
   },
   "outputs": [
    {
     "name": "stdout",
     "output_type": "stream",
     "text": [
      "[7, 0]\n",
      "[3, 0]\n",
      "[7, 3]\n",
      "[6, 0]\n",
      "[2, 0]\n",
      "[7, 2]\n",
      "[5, 0]\n",
      "[1, 0]\n"
     ]
    }
   ],
   "source": [
    "jarProb([7, 4], 1)"
   ]
  },
  {
   "cell_type": "code",
   "execution_count": 33,
   "metadata": {
    "collapsed": false
   },
   "outputs": [
    {
     "name": "stdout",
     "output_type": "stream",
     "text": [
      "fill 5\n",
      "L: 5 |S: 0\n",
      "L -> S\n",
      "L: 2 |S: 3\n",
      "pour 3\n",
      "L: 2 |S: 0\n",
      "L -> S\n",
      "L: 0 |S: 2\n",
      "fill 5\n",
      "L: 5 |S: 2\n",
      "L -> S\n",
      "L: 4 |S: 3\n",
      "pour 3\n",
      "L: 4 |S: 0\n",
      "L -> S\n",
      "L: 1 |S: 3\n"
     ]
    }
   ],
   "source": [
    "def jarProb(jarN, leftN):\n",
    "    # twr jugs; one L can contain jarN[1], one S can contain jarN[0]; get steps to make the large one contain leftN\n",
    "    jar = [0] * 2\n",
    "    done = False\n",
    "    while (not done):\n",
    "        if jar[0] == jarN[0]: # clear small jar as long as it's full\n",
    "            jar[0] = 0\n",
    "            print 'pour ' + str(jarN[0])\n",
    "        elif jar[1] == 0: # fill large jar as long as it's empty\n",
    "                jar[1] = jarN[1]\n",
    "                print 'fill ' + str(jarN[1])\n",
    "        else: # pour from large to small\n",
    "            jar0_before = jar[0]\n",
    "            jar[0] = min([jar[1] + jar[0], jarN[0]])\n",
    "            jar[1] = max([0, (jar[1] - (jarN[0] - jar0_before))])\n",
    "            print 'L -> S'\n",
    "        print 'L: ' + str(jar[1]) + ' |S: ' + str(jar[0])\n",
    "        if jar[1] == leftN:\n",
    "            done = True\n",
    "        if jar == [0] * 2:\n",
    "            print 'No solution'\n",
    "            return\n",
    "            \n",
    "jarProb([3, 5], 1)"
   ]
  },
  {
   "cell_type": "markdown",
   "metadata": {},
   "source": []
  },
  {
   "cell_type": "markdown",
   "metadata": {},
   "source": [
    "Suppose you are a computer scientist/art thief who has broken into a major art gallery. All you have with you to haul out your stolen art is your knapsack which only holds W pounds of art, but for every piece of art you know its value and its weight. Write a dynamic programming function to help you maximize your profit. Here is a sample problem for you to use to get started: Suppose your knapsack can hold a total weight of 20. You have 5 items as follows:\n",
    "\n",
    "weight = [2, 3, 4, 5, 9]\n",
    "value = [3, 4, 8, 8, 10]"
   ]
  },
  {
   "cell_type": "code",
   "execution_count": 76,
   "metadata": {
    "collapsed": false
   },
   "outputs": [
    {
     "data": {
      "text/plain": [
       "(29, [4, 5, 9, 2])"
      ]
     },
     "execution_count": 76,
     "metadata": {},
     "output_type": "execute_result"
    }
   ],
   "source": [
    "weight = [2, 3, 4, 5, 9]\n",
    "value = [3, 4, 8, 8, 10]\n",
    "def StoleArt(weight, value, total=20):\n",
    "    \n",
    "    if total >= sum(weight):\n",
    "        return sum(value), weight\n",
    "    \n",
    "    w_v = {ii: jj for ii, jj in zip(weight, value)}\n",
    "    values = [0] * (total + 1)\n",
    "    weights = [[]] * (total + 1)\n",
    "    for ii in range(min(weight), total + 1):        \n",
    "        max_v = values[ii - 1]\n",
    "        w_max_v = -1\n",
    "        for w in [c for c in weight if c <= ii]:\n",
    "            if w in weights[ii - w]:\n",
    "                continue\n",
    "            new_v = values[ii - w] + w_v[w]\n",
    "            if max_v < new_v:\n",
    "                max_v = new_v\n",
    "                w_max_v = w\n",
    "        values[ii] = max_v\n",
    "        if w_max_v == -1:\n",
    "            weights[ii] = weights[ii - 1]\n",
    "        else:\n",
    "            weights[ii] = weights[ii - w_max_v] + [w_max_v]\n",
    "        \n",
    "    return values[total], weights[total]\n",
    "    \n",
    "StoleArt(weight, value, 20)"
   ]
  },
  {
   "cell_type": "code",
   "execution_count": 74,
   "metadata": {
    "collapsed": false
   },
   "outputs": [
    {
     "name": "stdout",
     "output_type": "stream",
     "text": [
      "(23, [4, 5, 3, 2])\n",
      "(23, [4, 5, 3, 2])\n"
     ]
    }
   ],
   "source": [
    "n = 17\n",
    "print arts(n)\n",
    "print StoleArt(weight, value, n)"
   ]
  },
  {
   "cell_type": "code",
   "execution_count": 73,
   "metadata": {
    "collapsed": false
   },
   "outputs": [
    {
     "data": {
      "text/plain": [
       "(30, [4, 5, 9, 3])"
      ]
     },
     "execution_count": 73,
     "metadata": {},
     "output_type": "execute_result"
    }
   ],
   "source": [
    "def arts(n):\n",
    "    value = [0] * 10\n",
    "    value[2] = 3\n",
    "    value[3] = 4\n",
    "    value[4] = 8\n",
    "    value[5] = 8\n",
    "    value[9] = 10\n",
    "    bag = [0] * (n + 1)\n",
    "    artPiece = [[]] * (n + 1)\n",
    "    artWeight = [2, 3, 4, 5, 9]\n",
    "    \n",
    "    # if the limit is larger than all weight, just take everything\n",
    "    if n >= sum(artWeight):\n",
    "        return sum(value), artWeight\n",
    "    \n",
    "    for ii in range(n + 1):\n",
    "        tmp = bag[ii - 1]\n",
    "        artN = 0\n",
    "        for jj in [c for c in artWeight if c <= ii]: # only consider art that is lighter than the limit\n",
    "            # dynamic: find the maximum value of adding one new art in the bag; if it's no larger than bag of previous weight, just use previous weight\n",
    "            if (bag[ii - jj] + value[jj] > tmp) and (jj not in artPiece[ii - jj]):\n",
    "                tmp = bag[ii - jj] + value[jj]\n",
    "                artN = jj\n",
    "        bag[ii] = tmp\n",
    "        if tmp == bag[ii - 1]:\n",
    "            artPiece[ii] = artPiece[ii - 1]\n",
    "        else:            \n",
    "            artPiece[ii] = artPiece[ii - artN] + [artN]\n",
    "    return bag[n], artPiece[n]\n",
    "        \n",
    "arts(22)"
   ]
  }
 ],
 "metadata": {
  "kernelspec": {
   "display_name": "Python 2",
   "language": "python",
   "name": "python2"
  },
  "language_info": {
   "codemirror_mode": {
    "name": "ipython",
    "version": 2
   },
   "file_extension": ".py",
   "mimetype": "text/x-python",
   "name": "python",
   "nbconvert_exporter": "python",
   "pygments_lexer": "ipython2",
   "version": "2.7.9"
  }
 },
 "nbformat": 4,
 "nbformat_minor": 0
}
