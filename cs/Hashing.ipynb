{
 "cells": [
  {
   "cell_type": "markdown",
   "metadata": {},
   "source": [
    "use two lists to create a HashTable class that implements the Map abstract data type. One list, called slots, will hold the key items and a parallel list, called data, will hold the data values. When we look up a key, the corresponding position in the data list will hold the associated data value. We will treat the key list as a hash table using the ideas presented earlier. Note that the initial size for the hash table has been chosen to be 11. Although this is arbitrary, it is important that the size be a prime number"
   ]
  },
  {
   "cell_type": "code",
   "execution_count": null,
   "metadata": {
    "collapsed": false
   },
   "outputs": [],
   "source": [
    "class Map:\n",
    "    def __init__(self):\n",
    "        self.size = 11\n",
    "        self.slots = [None] * self.size\n",
    "        self.data = [None] * self.size\n",
    "    \n",
    "    def getLoc(key):\n",
    "        return key % self.size\n",
    "        \n",
    "    def put(self, key, val):\n",
    "        loc = getLoc(key)\n",
    "        for ii in range(loc, loc + self.size):\n",
    "            iiLoc = getLoc(ii)\n",
    "            if self.slots[iiLoc] == None:\n",
    "                self.slots[iiLoc] = key\n",
    "                self.val[iiLoc] = val\n",
    "            elif self.slots[iiLoc] == key:\n",
    "                self.val[iiLoc] = val\n",
    "        \n",
    "    def get(self, key):\n",
    "        loc = getLoc(key)\n",
    "        for ii in range(loc, loc + 11):\n",
    "            iiLoc = getLoc(ii)\n",
    "            elif self.slots[iiLoc] == key:\n",
    "                return self.val[iiLoc]\n",
    "        return None\n",
    "        \n",
    "    def len(self):\n",
    "        count = 0\n",
    "        for ii in self.val:\n",
    "            if ii != None:\n",
    "                count += 1\n",
    "    "
   ]
  }
 ],
 "metadata": {
  "kernelspec": {
   "display_name": "Python 2",
   "language": "python",
   "name": "python2"
  },
  "language_info": {
   "codemirror_mode": {
    "name": "ipython",
    "version": 2
   },
   "file_extension": ".py",
   "mimetype": "text/x-python",
   "name": "python",
   "nbconvert_exporter": "python",
   "pygments_lexer": "ipython2",
   "version": "2.7.9"
  }
 },
 "nbformat": 4,
 "nbformat_minor": 0
}
