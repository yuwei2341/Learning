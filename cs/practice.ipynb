{
 "cells": [
  {
   "cell_type": "code",
   "execution_count": 5,
   "metadata": {
    "collapsed": true
   },
   "outputs": [],
   "source": [
    "import pdb"
   ]
  },
  {
   "cell_type": "markdown",
   "metadata": {},
   "source": [
    "# Permutation"
   ]
  },
  {
   "cell_type": "code",
   "execution_count": 24,
   "metadata": {
    "collapsed": true
   },
   "outputs": [],
   "source": [
    "def perm_helper(p, r):\n",
    "#     pdb.set_trace()\n",
    "    if len(r) == 1:\n",
    "        return [i + r for i in p]\n",
    "    # else\n",
    "    rslt = []\n",
    "    for num in r:\n",
    "        for i in p:\n",
    "            rslt += perm_helper([i + [num]], [k for k in r if k != num])\n",
    "    return rslt\n",
    "\n",
    "def perm(r):\n",
    "    return perm_helper([[]], r)"
   ]
  },
  {
   "cell_type": "code",
   "execution_count": 26,
   "metadata": {
    "collapsed": false
   },
   "outputs": [],
   "source": [
    "def perm_helper(p, r):\n",
    "    if len(r) == 0:\n",
    "        print p\n",
    "    rslt = []\n",
    "    for num in r:\n",
    "        perm_helper(p + [num], [j for j in r if j != num])\n",
    "\n",
    "def perm(r):\n",
    "    return perm_helper([], r)"
   ]
  },
  {
   "cell_type": "code",
   "execution_count": 27,
   "metadata": {
    "collapsed": false
   },
   "outputs": [
    {
     "name": "stdout",
     "output_type": "stream",
     "text": [
      "[1, 2, 3]\n",
      "[1, 3, 2]\n",
      "[2, 1, 3]\n",
      "[2, 3, 1]\n",
      "[3, 1, 2]\n",
      "[3, 2, 1]\n"
     ]
    }
   ],
   "source": [
    "perm([1,2,3])"
   ]
  },
  {
   "cell_type": "markdown",
   "metadata": {},
   "source": [
    "# integers in intervals"
   ]
  },
  {
   "cell_type": "code",
   "execution_count": 97,
   "metadata": {
    "collapsed": false
   },
   "outputs": [],
   "source": [
    "from collections import defaultdict\n",
    "def most_intervals(L, M):\n",
    "    # M > max(L) and -M < min(L)\n",
    "    if not L:\n",
    "        return None\n",
    "    # Map entrance and exit for each time point\n",
    "    S, E = zip(*L)\n",
    "    B = defaultdict(int)\n",
    "    R = defaultdict(int)\n",
    "    for i in S:\n",
    "        B[i] += 1\n",
    "    for j in E:\n",
    "        B[j] -= 1\n",
    "        \n",
    "    # Get overlap at each time point\n",
    "    LS = sorted(set(S + E))\n",
    "    previous = -M\n",
    "    for k in LS:\n",
    "        R[k] = R[previous] + B[k]\n",
    "        previous = k\n",
    "\n",
    "    # Get the max and intervals\n",
    "    previous = -M\n",
    "    intervals = []\n",
    "    max_v = 0\n",
    "    max_k = None\n",
    "    for k in LS:\n",
    "        # update max and reset intervals for a new max\n",
    "        if R[k] > max_v:\n",
    "            max_k = k\n",
    "            max_v = R[k]\n",
    "            intervals = []\n",
    "            \n",
    "        # update intervals if the previous is max, and current is exit\n",
    "        if R[k] < max_v and previous == max_v:\n",
    "            intervals.append((max_k, k))\n",
    "            \n",
    "        # update start of interval for a non-consecutive max v\n",
    "        if R[k] == max_v and previous < max_v:\n",
    "            max_k = k\n",
    "            \n",
    "        previous = R[k]\n",
    "            \n",
    "    return intervals, max_v"
   ]
  },
  {
   "cell_type": "code",
   "execution_count": 98,
   "metadata": {
    "collapsed": false
   },
   "outputs": [
    {
     "data": {
      "text/plain": [
       "([(-3, 0), (1, 2)], 2)"
      ]
     },
     "execution_count": 98,
     "metadata": {},
     "output_type": "execute_result"
    }
   ],
   "source": [
    "M = 6\n",
    "# L = [[-3, -1], [-2, 0], [-2, 5], [2, 4]]\n",
    "# L = [[-3, -1], [2, 4]]\n",
    "# L = []\n",
    "# L = [[2, 3]]\n",
    "L = [[-4, -2], [-3, 0], [-2, 2], [1, 3]]\n",
    "most_intervals(L, M)"
   ]
  },
  {
   "cell_type": "code",
   "execution_count": 27,
   "metadata": {
    "collapsed": true
   },
   "outputs": [
    {
     "name": "stdout",
     "output_type": "stream",
     "text": [
      "(3, -1)\n",
      "(1, -2)\n",
      "None\n",
      "(1, 3)\n",
      "(2, -2)\n"
     ]
    }
   ],
   "source": [
    "def find_interval(intervals):\n",
    "    if len(L) == 0:\n",
    "        return None\n",
    "    a, b = zip(*intervals)\n",
    "    a_sorted = sorted(a)\n",
    "    b_sorted = sorted(b)\n",
    "    n_a = n_b = max_intervals = max_k = 0\n",
    "\n",
    "    # Loop over all a-s and b-s, after sorting. Overlapping intervals = n_a - n_b, where\n",
    "    # n_a (n_b) are the number of a-s (b-s) that are smaller than k\n",
    "    for k in range(a_sorted[0] + 1, a_sorted[-1] + 2):\n",
    "        while len(a_sorted) > 0 and k > a_sorted[0]:\n",
    "            n_a += 1\n",
    "            a_sorted.pop(0)\n",
    "        while len(b_sorted) > 0 and k > b_sorted[0]:\n",
    "            n_b += 1\n",
    "            b_sorted.pop(0)\n",
    "        if max_intervals < n_a - n_b:\n",
    "            max_intervals = n_a - n_b\n",
    "            max_k = k \n",
    "    return max_intervals, max_k\n",
    "\n",
    "\n",
    "for L in [[[-3, -1], [-2, 0], [-2, 5], [2, 4]], \n",
    "          [[-3, -1], [2, 4]], \n",
    "          [], \n",
    "          [[2, 3]], \n",
    "          [[-4, -2], [-3, 0], [-2, 2], [1, 3]]]:\n",
    "    print(find_interval(L))"
   ]
  },
  {
   "cell_type": "markdown",
   "metadata": {},
   "source": [
    "# some practice"
   ]
  },
  {
   "cell_type": "code",
   "execution_count": null,
   "metadata": {},
   "outputs": [],
   "source": [
    "# longest palindromic substring\n",
    "\n",
    "def lps(string):\n",
    "# I forgot to consider even number of letters like 'abba'\n",
    "    if not string:\n",
    "        return None\n",
    "    if len(string) < 3:\n",
    "        return 0, 1\n",
    "    maxl = 1\n",
    "    maxl_i = 0\n",
    "    for i in range(1, len(string) - 1):\n",
    "        for j in range(i + 1): \n",
    "            if string[i - j] != string [i + j] or i + j > len(string) - 1:\n",
    "                break\n",
    "        if maxl < (j - 1) * 2 + 1:\n",
    "            maxl = (j - 1) * 2 + 1\n",
    "            maxl_i = i\n",
    "    return maxl_i, maxl\n"
   ]
  },
  {
   "cell_type": "code",
   "execution_count": 1,
   "metadata": {},
   "outputs": [
    {
     "data": {
      "text/plain": [
       "1"
      ]
     },
     "execution_count": 1,
     "metadata": {},
     "output_type": "execute_result"
    }
   ],
   "source": [
    "# substring\n",
    "\n",
    "def strstr(sub, string):\n",
    "    # edge cases: '', 1 letter, reverse length\n",
    "    isub = 0\n",
    "    istring = 0\n",
    "    while istring < len(string):\n",
    "        prev = istring\n",
    "        while sub[isub] == string[istring]:\n",
    "            isub += 1\n",
    "            istring += 1\n",
    "            if isub == len(sub) - 1:\n",
    "                return prev\n",
    "        istring = prev\n",
    "        isub = 0\n",
    "        istring += 1\n",
    "    return None\n",
    "\n",
    "sub = 'puma'\n",
    "string = 'apuma'\n",
    "strstr(sub, string)"
   ]
  },
  {
   "cell_type": "code",
   "execution_count": 2,
   "metadata": {},
   "outputs": [
    {
     "name": "stdout",
     "output_type": "stream",
     "text": [
      "([1, 2, 4, 8, 16, 32], 0, 3)\n"
     ]
    }
   ],
   "source": [
    "\n",
    "\n",
    "# two sum with sorted arrays\n",
    "def twosum(arr, n):\n",
    "    # assume len(arr) >= 2\n",
    "    il = 0\n",
    "    ir = 1\n",
    "    while arr[il] + arr[ir] < n:\n",
    "        ir += 1\n",
    "    if arr[il] + arr[ir] == n:\n",
    "        return arr, il, ir \n",
    "    ir -= 1\n",
    "    while il < ir:  # can use if and increate only once \n",
    "        while arr[il] + arr[ir] < n and il < ir:\n",
    "            il += 1\n",
    "        while arr[il] + arr[ir] > n and il < ir:\n",
    "            ir -= 1\n",
    "        if arr[il] + arr[ir] == n and il != ir:\n",
    "            return arr, il, ir\n",
    "    return None\n",
    "\n",
    "\n",
    "print(twosum([1, 2, 4, 8, 16, 32], 9))"
   ]
  },
  {
   "cell_type": "code",
   "execution_count": null,
   "metadata": {},
   "outputs": [],
   "source": []
  }
 ],
 "metadata": {
  "kernelspec": {
   "display_name": "penv",
   "language": "python",
   "name": "python3"
  },
  "language_info": {
   "codemirror_mode": {
    "name": "ipython",
    "version": 3
   },
   "file_extension": ".py",
   "mimetype": "text/x-python",
   "name": "python",
   "nbconvert_exporter": "python",
   "pygments_lexer": "ipython3",
   "version": "3.11.4"
  },
  "toc": {
   "base_numbering": 1,
   "nav_menu": {},
   "number_sections": true,
   "sideBar": true,
   "skip_h1_title": false,
   "title_cell": "Table of Contents",
   "title_sidebar": "Contents",
   "toc_cell": false,
   "toc_position": {},
   "toc_section_display": true,
   "toc_window_display": false
  }
 },
 "nbformat": 4,
 "nbformat_minor": 2
}
