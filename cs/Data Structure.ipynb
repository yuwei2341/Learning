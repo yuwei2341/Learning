{
 "cells": [
  {
   "cell_type": "markdown",
   "metadata": {},
   "source": [
    "## Stack"
   ]
  },
  {
   "cell_type": "code",
   "execution_count": 1,
   "metadata": {
    "collapsed": false
   },
   "outputs": [],
   "source": [
    "class Stack:\n",
    "    def __init__(self):\n",
    "        self.items = []\n",
    "    def isEmpty(self):\n",
    "        return self.items == []\n",
    "    def push(self, item):\n",
    "        self.items.insert(0, item)\n",
    "    def pop(self):\n",
    "        return self.items.pop(0)\n",
    "    def peek(self):\n",
    "        return self.items[0]\n",
    "    def size(self):\n",
    "        return len(self.items)\n",
    "    "
   ]
  },
  {
   "cell_type": "markdown",
   "metadata": {},
   "source": [
    "Write a function revstring(mystr) that uses a stack to reverse the characters in a string"
   ]
  },
  {
   "cell_type": "code",
   "execution_count": 13,
   "metadata": {
    "collapsed": true
   },
   "outputs": [],
   "source": [
    "try:\n",
    "    from pythonds.basic.stack import Stack\n",
    "except:\n",
    "    pass\n",
    "\n",
    "def revstring(mystr):\n",
    "    revstr = Stack()\n",
    "    for ii in mystr:\n",
    "        revstr.push(ii)\n",
    "    revstrOut = ''\n",
    "    while not revstr.isEmpty():\n",
    "        revstrOut += revstr.pop()\n",
    "    return revstrOut\n",
    "\n",
    "teststr = ['a', 1]\n",
    "# test edge cases\n",
    "try:\n",
    "    print revstring(teststr)\n",
    "except Exception as e:\n",
    "    print e"
   ]
  },
  {
   "cell_type": "markdown",
   "metadata": {},
   "source": [
    "## Queue"
   ]
  },
  {
   "cell_type": "code",
   "execution_count": 16,
   "metadata": {
    "collapsed": false
   },
   "outputs": [],
   "source": [
    "class Queue():\n",
    "    def __init__(self):\n",
    "        self.items = []\n",
    "    def isEmpty(self):\n",
    "        return self.items == []\n",
    "    def enqueue(self, item):\n",
    "        self.items.insert(0, item)\n",
    "    def dequeue(self):\n",
    "        return self.items.pop()\n",
    "    def size(self):\n",
    "        return len(self.items)      "
   ]
  },
  {
   "cell_type": "markdown",
   "metadata": {},
   "source": [
    "Hot Potato - loop over by num and remove one ele; repeat"
   ]
  },
  {
   "cell_type": "code",
   "execution_count": 30,
   "metadata": {
    "collapsed": true
   },
   "outputs": [],
   "source": [
    "def HotPotato(nameList, num):\n",
    "    \n",
    "    a = Queue()\n",
    "    out = []\n",
    "    for ii in nameList:\n",
    "        a.enqueue(ii)\n",
    "    jj = 1\n",
    "    while not a.isEmpty():\n",
    "        next_ele = a.dequeue()\n",
    "        if jj % num != 0:\n",
    "            a.enqueue(next_ele)\n",
    "        else:\n",
    "            out.append(next_ele)\n",
    "            print a.items\n",
    "        jj += 1\n",
    "    return out"
   ]
  },
  {
   "cell_type": "code",
   "execution_count": 32,
   "metadata": {
    "collapsed": false
   },
   "outputs": [],
   "source": [
    "def HotPotato(nameList, num):\n",
    "    nameQ = Queue()\n",
    "    for ii in nameList:\n",
    "        nameQ.enqueue(ii)\n",
    "    while nameQ.size() > 1:\n",
    "        for ii in range(num):\n",
    "            nameQ.enqueue(nameQ.dequeue())\n",
    "        nameQ.dequeue()\n",
    "    return nameQ.dequeue()  "
   ]
  },
  {
   "cell_type": "markdown",
   "metadata": {},
   "source": [
    "Printing Task"
   ]
  },
  {
   "cell_type": "markdown",
   "metadata": {},
   "source": [
    "1. Create a queue of print tasks. Each task will be given a timestamp upon its arrival. The queue is empty to start.\n",
    "1. For each second (currentSecond):\n",
    "    2. Does a new print task get created? If so, add it to the queue with the currentSecond as the timestamp.\n",
    "    2. If the printer is not busy and if a task is waiting,\n",
    "        Remove the next task from the print queue and assign it to the printer.\n",
    "        Subtract the timestamp from the currentSecond to compute the waiting time for that task.\n",
    "        Append the waiting time for that task to a list for later processing.\n",
    "        Based on the number of pages in the print task, figure out how much time will be required.\n",
    "    2. The printer now does one second of printing if necessary. It also subtracts one second from the time required for that task.\n",
    "    2. If the task has been completed, in other words the time required has reached zero, the printer is no longer busy.\n",
    "1. After the simulation is complete, compute the average waiting time from the list of waiting times generated."
   ]
  },
  {
   "cell_type": "code",
   "execution_count": null,
   "metadata": {
    "collapsed": true
   },
   "outputs": [],
   "source": []
  },
  {
   "cell_type": "code",
   "execution_count": 73,
   "metadata": {
    "collapsed": false
   },
   "outputs": [],
   "source": [
    "import random \n",
    "class Printer(object):\n",
    "    def __init__(self):\n",
    "        self.speed = 1\n",
    "        self.q = Queue()\n",
    "        self.print_time = 0\n",
    "        self.total_wait_times = []\n",
    "        \n",
    "    def _is_busy(self):\n",
    "        return self.print_time != 0\n",
    "    \n",
    "    def _printing_time(self, page):\n",
    "        return page / self.speed\n",
    "    \n",
    "    def process(self, currentSecond, task=None):\n",
    "        \n",
    "        if task is not None:\n",
    "            self.q.enqueue((currentSecond, task))\n",
    "            \n",
    "        if not self._is_busy() and not self.q.isEmpty():\n",
    "            ts_next_task, page_next_task = self.q.dequeue()\n",
    "            self.total_wait_times.append(currentSecond - ts_next_task)\n",
    "            self.print_time += self._printing_time(page_next_task)\n",
    "        self.print_time = max(0, self.print_time - 1)\n",
    "        \n",
    "    def ave_waiting_time(self):\n",
    "        if self.total_wait_times:\n",
    "            return sum(self.total_wait_times) / float(len(self.total_wait_times))\n",
    "        else:\n",
    "            return 0\n",
    "\n",
    "currentSecond = 0\n",
    "a_printer = Printer()\n",
    "while currentSecond < 10000:\n",
    "    isTask = random.randrange(1, 181)\n",
    "    task = None\n",
    "    if isTask == 180:\n",
    "        task = random.randrange(1, 200)\n",
    "    a_printer.process(currentSecond, task)\n",
    "    currentSecond += 1\n",
    "    \n",
    "print a_printer.ave_waiting_time()"
   ]
  },
  {
   "cell_type": "code",
   "execution_count": null,
   "metadata": {
    "collapsed": true
   },
   "outputs": [],
   "source": []
  },
  {
   "cell_type": "code",
   "execution_count": null,
   "metadata": {
    "collapsed": true
   },
   "outputs": [],
   "source": [
    "q = Queue()\n",
    "\n",
    "currentSecond = 0\n",
    "t_wait = []\n",
    "t_page = 1 # 1 page per sec\n",
    "p_wait_time = 0 \n",
    "def get_task(currentSecond):\n",
    "    # random: if there is job. return (0, 0) if no\n",
    "    # if there is job: random: n_page\n",
    "\n",
    "While currentSecond < 1000:\n",
    "    currentSecond += 1\n",
    "    n_pages = get_task() # this return page of task, and ts; page is 0 if no task\n",
    "    if n_pages:\n",
    "        q.enqueue((n_page, currentSecond))\n",
    "    if p_wait_time > 0: # printing\n",
    "        p_wait_time -= 1\n",
    "        continue\n",
    "    if q.isEmpty: # idle, and no further job\n",
    "        continue\n",
    "    # printer not busy, and q is not empty\n",
    "    task = q.dequeue()\n",
    "    t_wait.append(currentSecond - task[1])\n",
    "    t_process = t_page * task[0]\n",
    "    p_wait_time += t_process\n",
    "\n",
    "if t_wait:\n",
    "    print sum(t_wait) / float(len(t_wait))"
   ]
  },
  {
   "cell_type": "code",
   "execution_count": 140,
   "metadata": {
    "collapsed": false
   },
   "outputs": [],
   "source": [
    "import random\n",
    "import pdb\n",
    "def PrintTask():\n",
    "    tasks = Queue()\n",
    "    waitList = []\n",
    "    waitTime = 0\n",
    "    for currentSecond in range(360000):\n",
    "        isTask = random.randrange(1, 181)\n",
    "        \n",
    "        if isTask == 180:\n",
    "\n",
    "            pages = random.randrange(1, 21)\n",
    "            tasks.enqueue({'timeStamp': currentSecond, 'pages': pages})\n",
    "        if waitTime > 0:\n",
    "            waitTime -= 1\n",
    "        else: \n",
    "            if not tasks.isEmpty():\n",
    "                nextTask= tasks.dequeue()\n",
    "                waitList.append(currentSecond - nextTask['timeStamp'])\n",
    "                waitTime = nextTask['pages'] * 6\n",
    "#    pdb.set_trace()\n",
    "    return sum(waitList) / len(waitList)"
   ]
  },
  {
   "cell_type": "code",
   "execution_count": 152,
   "metadata": {
    "collapsed": false
   },
   "outputs": [
    {
     "data": {
      "text/plain": [
       "23"
      ]
     },
     "execution_count": 152,
     "metadata": {},
     "output_type": "execute_result"
    }
   ],
   "source": [
    "PrintTask()"
   ]
  },
  {
   "cell_type": "markdown",
   "metadata": {},
   "source": [
    "## Linked List"
   ]
  },
  {
   "cell_type": "code",
   "execution_count": 3,
   "metadata": {
    "collapsed": false
   },
   "outputs": [],
   "source": [
    "# Node: an element of a linked list - value and link\n",
    "class Node:\n",
    "    def __init__(self, initdata):\n",
    "        self.data = initdata\n",
    "        self.next = None\n",
    "    def getData(self):\n",
    "        return self.data\n",
    "    def getNext(self):\n",
    "        return self.next\n",
    "    def setData(self, newdata):\n",
    "        self.data = newdata\n",
    "    def setNext(selft, newnext):\n",
    "        selt.next = newnext\n",
    "\n",
    "# consists of nodes\n",
    "class UnorderedList:\n",
    "    def __init__(self):\n",
    "        self.head = None\n",
    "    def isEmpty(self):\n",
    "        return self.head == None\n",
    "    def add(self, item):\n",
    "        temp = Node(item)\n",
    "        temp.setNext(self.head)\n",
    "        self.head = temp\n",
    "    def size(self):\n",
    "        count = 0\n",
    "        temp = self.head\n",
    "        while temp:\n",
    "            count += 1\n",
    "            temp = temp.getNext()\n",
    "        return count\n",
    "    def search(self, item):\n",
    "        temp = self.head\n",
    "        found = False\n",
    "        while temp and temp.getData() <= item:  # unordered list. The \"<=\" is wrong\n",
    "            if temp.getData() == item:\n",
    "                found = True\n",
    "                break\n",
    "            else:\n",
    "                temp = temp.getNext()\n",
    "        return found\n",
    "    def remove(self,item):\n",
    "        current = self.head\n",
    "        previous = None\n",
    "        found = False\n",
    "        while not found and current:\n",
    "            if current.getData() == item:\n",
    "                found = True\n",
    "            else:\n",
    "                previous = current\n",
    "                current = current.getNext()\n",
    "\n",
    "        if previous == None:\n",
    "            self.head = current.getNext()\n",
    "        else:\n",
    "            previous.setNext(current.getNext())\n",
    "\n",
    "#            \n",
    "class OrderedList:\n",
    "    def __init__(self):\n",
    "        self.head = None\n",
    "    def isEmpty(self):\n",
    "        return self.head == None\n",
    "    def add(self, item):\n",
    "        # cases to consider\n",
    "        # 1. empty list\n",
    "        # 2. only one element, and it's larger than item\n",
    "        # 3. the rest\n",
    "        current = self.head\n",
    "        previous = None\n",
    "        while current and current.getData() < item:\n",
    "            previous = current\n",
    "            current = current.getNext()\n",
    "        temp = Node(item)   \n",
    "        if previous == None:\n",
    "            temp.setNext(self.head)\n",
    "            self.head = temp\n",
    "        else:\n",
    "            temp.setNext(current)\n",
    "            previous.setNext(temp)\n",
    "    def size(self):\n",
    "        count = 0\n",
    "        temp = self.head\n",
    "        while temp:\n",
    "            count += 1\n",
    "            temp = temp.getNext()\n",
    "        return count\n",
    "    def search(self, item):\n",
    "        temp = self.head\n",
    "        found = False\n",
    "        while temp:\n",
    "            if temp.getData() == item:\n",
    "                found = True\n",
    "                break\n",
    "            elif temp.getData() > item:\n",
    "                break\n",
    "            else:\n",
    "                temp = temp.getNext()\n",
    "        return found\n",
    "    def remove(self,item):\n",
    "        current = self.head\n",
    "        previous = None\n",
    "        found = False\n",
    "        while not found:\n",
    "            if current.getData() == item:\n",
    "                found = True\n",
    "            else:\n",
    "                previous = current\n",
    "                current = current.getNext()\n",
    "\n",
    "        if previous == None:\n",
    "            self.head = current.getNext()\n",
    "        else:\n",
    "            previous.setNext(current.getNext())\n"
   ]
  },
  {
   "cell_type": "markdown",
   "metadata": {
    "collapsed": false
   },
   "source": [
    "# Graph"
   ]
  },
  {
   "cell_type": "code",
   "execution_count": 22,
   "metadata": {
    "collapsed": false
   },
   "outputs": [],
   "source": [
    "class Vertex(object):\n",
    "    def __init__(self, key):\n",
    "        self.id = key\n",
    "        self.connectedTo = {} # dict of Vertex\n",
    "        \n",
    "    def addNeighbor(self, nbr, weight=0):\n",
    "        self.connectedTo[nbr] = weight\n",
    "    \n",
    "    def __str__(self):\n",
    "        return (str(self.id) + ' connectedTO: ' + \n",
    "                str([x.id for x in self.connectedTo]))\n",
    "    \n",
    "    def getConnections(self):\n",
    "        return self.connectedTo.keys()\n",
    "    \n",
    "    def getId(self):\n",
    "        return self.id\n",
    "    \n",
    "    def getWeight(self, nbr):\n",
    "        return self.connectedTo[nbr]\n",
    "    \n",
    "class Graph(object):\n",
    "    def __init__(self):\n",
    "        self.nodes = {} # key: v.id; value: v\n",
    "        self.numVertices = 0\n",
    "        \n",
    "    def addVertex(self, key):\n",
    "        newVertex = Vertex(key)\n",
    "        self.nodes[key] = newVertex\n",
    "        self.numVertices += 1\n",
    "        return newVertex\n",
    "    \n",
    "    def getVertex(self, n):\n",
    "        return self.nodes.get(n)\n",
    "    \n",
    "    def __contains__(self, n):\n",
    "        return n in self.nodes\n",
    "    \n",
    "    def addEdge(self, v_key, w_key, weight=0):\n",
    "        if v_key not in self.nodes:\n",
    "            _ = self.addVertex(v_key)\n",
    "        if w_key not in self.nodes:\n",
    "            _ = self.addVertex(w_key)\n",
    "        self.nodes[v_key].addNeighbor(self.nodes[w_key], weight)\n",
    "        \n",
    "    def getVertices(self):\n",
    "        return self.nodes.keys()\n",
    "    \n",
    "    def __iter__(self):\n",
    "        return iter(self.nodes.values())"
   ]
  },
  {
   "cell_type": "code",
   "execution_count": 24,
   "metadata": {
    "collapsed": false
   },
   "outputs": [
    {
     "name": "stdout",
     "output_type": "stream",
     "text": [
      "0 connectedTO: [1, 5]\n",
      "1 connectedTO: [2]\n",
      "2 connectedTO: [3]\n",
      "3 connectedTO: [4, 5]\n",
      "4 connectedTO: [0]\n",
      "5 connectedTO: [2, 4]\n"
     ]
    }
   ],
   "source": [
    "g = Graph()\n",
    "for i in range(6):\n",
    "    g.addVertex(i)\n",
    "g.addEdge(0,1,5)\n",
    "g.addEdge(0,5,2)\n",
    "g.addEdge(1,2,4)\n",
    "g.addEdge(2,3,9)\n",
    "g.addEdge(3,4,7)\n",
    "g.addEdge(3,5,3)\n",
    "g.addEdge(4,0,1)\n",
    "g.addEdge(5,4,8)\n",
    "g.addEdge(5,2,1)\n",
    "for v in g:\n",
    "    print v"
   ]
  },
  {
   "cell_type": "code",
   "execution_count": null,
   "metadata": {
    "collapsed": true
   },
   "outputs": [],
   "source": []
  },
  {
   "cell_type": "code",
   "execution_count": null,
   "metadata": {
    "collapsed": true
   },
   "outputs": [],
   "source": []
  },
  {
   "cell_type": "code",
   "execution_count": null,
   "metadata": {
    "collapsed": true
   },
   "outputs": [],
   "source": []
  },
  {
   "cell_type": "code",
   "execution_count": null,
   "metadata": {
    "collapsed": true
   },
   "outputs": [],
   "source": []
  },
  {
   "cell_type": "code",
   "execution_count": null,
   "metadata": {
    "collapsed": true
   },
   "outputs": [],
   "source": []
  }
 ],
 "metadata": {
  "kernelspec": {
   "display_name": "Python 2",
   "language": "python",
   "name": "python2"
  },
  "language_info": {
   "codemirror_mode": {
    "name": "ipython",
    "version": 2
   },
   "file_extension": ".py",
   "mimetype": "text/x-python",
   "name": "python",
   "nbconvert_exporter": "python",
   "pygments_lexer": "ipython2",
   "version": "2.7.12"
  }
 },
 "nbformat": 4,
 "nbformat_minor": 0
}
