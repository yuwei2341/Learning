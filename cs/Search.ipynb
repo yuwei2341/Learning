{
 "cells": [
  {
   "cell_type": "markdown",
   "metadata": {},
   "source": [
    "## Binary search for ordered list"
   ]
  },
  {
   "cell_type": "code",
   "execution_count": 15,
   "metadata": {
    "collapsed": false
   },
   "outputs": [
    {
     "data": {
      "text/plain": [
       "False"
      ]
     },
     "execution_count": 15,
     "metadata": {},
     "output_type": "execute_result"
    }
   ],
   "source": [
    "# method 1: using new list each time - consuming\n",
    "def BinSearch(aList, num):\n",
    "    stop = False\n",
    "    found = False\n",
    "    newList = aList\n",
    "    count = 0\n",
    "    while (newList != []) and (not found) and count < 10:\n",
    "        count += 1\n",
    "        lenList = len(newList)\n",
    "        ind = lenList // 2\n",
    "        if num == newList[ind]:\n",
    "            found = True\n",
    "        elif num < aList[ind]:\n",
    "            newList = newList[:ind]\n",
    "        else:\n",
    "            newList = newList[ind + 1:]\n",
    "    return found\n",
    "    \n",
    "BinSearch(range(10), 34)\n",
    "        "
   ]
  },
  {
   "cell_type": "code",
   "execution_count": 9,
   "metadata": {
    "collapsed": true
   },
   "outputs": [],
   "source": [
    "def BinarySearch(aList, item):\n",
    "    start = 0\n",
    "    end = len(aList)\n",
    "    found = False\n",
    "    while start < end:\n",
    "        mid = (start + end) / 2\n",
    "        if item < aList[mid]:\n",
    "            end = mid\n",
    "        elif item == aList[mid]:\n",
    "            found = True\n",
    "            break\n",
    "        else:\n",
    "            start = mid + 1\n",
    "    return found            "
   ]
  },
  {
   "cell_type": "code",
   "execution_count": null,
   "metadata": {
    "collapsed": false
   },
   "outputs": [],
   "source": [
    "# method 2, use new index each time\n",
    "def BinarySearch(aList, item):\n",
    "    first = 0\n",
    "    last = len(aList) - 1\n",
    "    found = False\n",
    "    while first <= last and not found:\n",
    "        midPoint = (first + last) // 2\n",
    "        if item == aList[midPoint]:\n",
    "            found = True\n",
    "        elif item < aList[midPoint]:\n",
    "            last = midPoint - 1\n",
    "        else:\n",
    "            first = midPoint + 1\n",
    "    return found\n",
    "\n",
    "\n",
    "    \n",
    "    "
   ]
  },
  {
   "cell_type": "code",
   "execution_count": null,
   "metadata": {},
   "outputs": [],
   "source": []
  },
  {
   "cell_type": "markdown",
   "metadata": {},
   "source": [
    "## binary search - recursive version"
   ]
  },
  {
   "cell_type": "code",
   "execution_count": 22,
   "metadata": {
    "collapsed": false
   },
   "outputs": [
    {
     "data": {
      "text/plain": [
       "False"
      ]
     },
     "execution_count": 22,
     "metadata": {},
     "output_type": "execute_result"
    }
   ],
   "source": [
    "# method 1: \n",
    "def BinSearch(aList, num):\n",
    "    lenList = len(aList)\n",
    "    ind = lenList // 2\n",
    "    if not aList:\n",
    "        return False\n",
    "    if num == aList[ind]:\n",
    "        return True\n",
    "    elif num < aList[ind]:\n",
    "        return BinSearch(aList[:ind], num)\n",
    "    else:\n",
    "        return BinSearch(aList[ind + 1:], num)\n",
    "    \n",
    "BinSearch(range(10), -1)\n",
    "        "
   ]
  },
  {
   "cell_type": "code",
   "execution_count": 18,
   "metadata": {
    "collapsed": false
   },
   "outputs": [
    {
     "data": {
      "text/plain": [
       "True"
      ]
     },
     "execution_count": 18,
     "metadata": {},
     "output_type": "execute_result"
    }
   ],
   "source": [
    "# method 2: using recursion, but not slicing\n",
    "def BinSearch(aList, start, end, num):\n",
    "    ind = (start + end) // 2\n",
    "    if not aList or start > end:\n",
    "        return False\n",
    "    if num == aList[ind]:\n",
    "        return True\n",
    "    elif num < aList[ind]:\n",
    "        return BinSearch(aList, start, ind - 1, num)\n",
    "    else:\n",
    "        return BinSearch(aList, ind + 1, end, num)\n",
    "    \n",
    "def BinHelper(aList, num):\n",
    "    return BinSearch(aList, 0, len(aList) - 1, num)\n",
    "\n",
    "BinHelper(range(10), 5)\n",
    "        "
   ]
  }
 ],
 "metadata": {
  "kernelspec": {
   "display_name": "Python 3",
   "language": "python",
   "name": "python3"
  },
  "language_info": {
   "codemirror_mode": {
    "name": "ipython",
    "version": 3
   },
   "file_extension": ".py",
   "mimetype": "text/x-python",
   "name": "python",
   "nbconvert_exporter": "python",
   "pygments_lexer": "ipython3",
   "version": "3.11.4"
  }
 },
 "nbformat": 4,
 "nbformat_minor": 0
}
